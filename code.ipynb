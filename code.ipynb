{
 "cells": [
  {
   "cell_type": "code",
   "execution_count": 1,
   "id": "7b4cdb56-e368-4271-930b-abebb10bf38e",
   "metadata": {},
   "outputs": [],
   "source": [
    "#import\n",
    "import pandas as pd\n",
    "import csv"
   ]
  },
  {
   "cell_type": "code",
   "execution_count": 2,
   "id": "b80b55ad-459f-40f1-962c-7a78ddd3803e",
   "metadata": {},
   "outputs": [],
   "source": [
    "#replace & split\n",
    "text = open(\"output.log\", \"r\")\n",
    "text = ''.join([i for i in text]) \\\n",
    "    .replace(\"]\", \"[\")\n",
    "x = open(\"output.csv\",\"w\")\n",
    "x.writelines(text)\n",
    "x.close()"
   ]
  },
  {
   "cell_type": "code",
   "execution_count": 3,
   "id": "43f29fd8-bd6b-4a29-8dea-af913d4e14ad",
   "metadata": {},
   "outputs": [],
   "source": [
    "with open(\"output.csv\") as f, open('logfile.csv', 'w') as f2:\n",
    "    writer = csv.writer(f2)\n",
    "    writer.writerow(['Index', 'IP', 'time','', 'methodpath', 'statuscode&responselength','','useragent','', 'responsetime']) \n",
    "\n",
    "    i = 0\n",
    "    for line in f:\n",
    "        writer.writerow([i] + line.rstrip().split('['))\n",
    "        i += 1\n",
    "        if i == 1260037:\n",
    "            break"
   ]
  },
  {
   "cell_type": "code",
   "execution_count": 4,
   "id": "dffdc826-fcea-4a1e-b47d-30095d9f55ae",
   "metadata": {},
   "outputs": [
    {
     "name": "stderr",
     "output_type": "stream",
     "text": [
      "b'Skipping line 601731: expected 10 fields, saw 12\\n'\n"
     ]
    }
   ],
   "source": [
    "data=pd.read_csv(\"logfile.csv\",error_bad_lines=False)"
   ]
  },
  {
   "cell_type": "code",
   "execution_count": 5,
   "id": "ca280ba7-e9d2-444c-ba02-cddc12ad6089",
   "metadata": {},
   "outputs": [],
   "source": [
    "new = data['statuscode&responselength'].str.split(\" \", n = 2, expand = True)\n",
    "    \n",
    "data[\"statuscode\"]= new[1]\n",
    "data[\"responselength\"]= new[2]\n",
    "data.drop(columns =[\"statuscode&responselength\"], inplace = True)\n",
    "\n",
    "new = data[\"methodpath\"].str.split(\" \", n = 2, expand = True)\n",
    "    \n",
    "data[\"method\"]= new[0]\n",
    "data[\"path\"]= new[1]\n",
    "data.drop(columns =[\"methodpath\"], inplace = True)"
   ]
  },
  {
   "cell_type": "code",
   "execution_count": 6,
   "id": "022c775c-8476-4f1e-925b-25bcf9228d7a",
   "metadata": {},
   "outputs": [],
   "source": [
    "data.drop(columns =[\"Index\",\"Unnamed: 3\",\"Unnamed: 6\",\"Unnamed: 8\"], inplace = True)"
   ]
  },
  {
   "cell_type": "code",
   "execution_count": 7,
   "id": "4427cd70-1a21-49ab-aed4-eafeb1bcfa77",
   "metadata": {},
   "outputs": [],
   "source": [
    "#feature extracction \"hour\"\n",
    "import datetime\n",
    "data[\"time\"] = pd.to_datetime(data[\"time\"])\n",
    "data[\"hour\"] = data[\"time\"].dt.hour-data[\"time\"].dt.hour.max()+10"
   ]
  },
  {
   "cell_type": "code",
   "execution_count": 8,
   "id": "1716c154-374f-4220-a3bb-31866761982e",
   "metadata": {},
   "outputs": [],
   "source": [
    "#feature extraction \"request\"\n",
    "import numpy as np\n",
    "import janitor\n",
    "from janitor import groupby_agg\n",
    "data['request1']=1\n",
    "filtered_df = data.groupby_agg(by=['hour','IP','useragent'],\n",
    "                              agg='size',\n",
    "                              agg_column_name= 'request1',\n",
    "                              new_column_name='request'\n",
    "                             )"
   ]
  },
  {
   "cell_type": "code",
   "execution_count": 247,
   "id": "5de49cf6-9cf7-4eb3-a120-ec870909ac14",
   "metadata": {},
   "outputs": [
    {
     "data": {
      "text/html": [
       "<div>\n",
       "<style scoped>\n",
       "    .dataframe tbody tr th:only-of-type {\n",
       "        vertical-align: middle;\n",
       "    }\n",
       "\n",
       "    .dataframe tbody tr th {\n",
       "        vertical-align: top;\n",
       "    }\n",
       "\n",
       "    .dataframe thead th {\n",
       "        text-align: right;\n",
       "    }\n",
       "</style>\n",
       "<table border=\"1\" class=\"dataframe\">\n",
       "  <thead>\n",
       "    <tr style=\"text-align: right;\">\n",
       "      <th></th>\n",
       "      <th>IP</th>\n",
       "      <th>time</th>\n",
       "      <th>useragent</th>\n",
       "      <th>responsetime</th>\n",
       "      <th>statuscode</th>\n",
       "      <th>responselength</th>\n",
       "      <th>method</th>\n",
       "      <th>path</th>\n",
       "      <th>hour</th>\n",
       "      <th>request1</th>\n",
       "      <th>request</th>\n",
       "    </tr>\n",
       "  </thead>\n",
       "  <tbody>\n",
       "    <tr>\n",
       "      <th>0</th>\n",
       "      <td>207.213.193.143</td>\n",
       "      <td>2021-05-12 05:06:00+04:30</td>\n",
       "      <td>Googlebot-Image/1.0</td>\n",
       "      <td>32</td>\n",
       "      <td>304</td>\n",
       "      <td>0</td>\n",
       "      <td>Get</td>\n",
       "      <td>/cdn/profiles/1026106239</td>\n",
       "      <td>0</td>\n",
       "      <td>1</td>\n",
       "      <td>2086</td>\n",
       "    </tr>\n",
       "    <tr>\n",
       "      <th>1</th>\n",
       "      <td>207.213.193.143</td>\n",
       "      <td>2021-05-12 05:06:00+04:30</td>\n",
       "      <td>Googlebot-Image/1.0</td>\n",
       "      <td>4</td>\n",
       "      <td>304</td>\n",
       "      <td>0</td>\n",
       "      <td>Get</td>\n",
       "      <td>images/badge.png</td>\n",
       "      <td>0</td>\n",
       "      <td>1</td>\n",
       "      <td>2086</td>\n",
       "    </tr>\n",
       "    <tr>\n",
       "      <th>2</th>\n",
       "      <td>35.110.222.153</td>\n",
       "      <td>2021-05-12 05:06:00+04:30</td>\n",
       "      <td>Mozilla/5.0 (Linux; Android 6.0.1; SAMSUNG SM-...</td>\n",
       "      <td>32</td>\n",
       "      <td>200</td>\n",
       "      <td>52567</td>\n",
       "      <td>Get</td>\n",
       "      <td>/pages/630180847</td>\n",
       "      <td>0</td>\n",
       "      <td>1</td>\n",
       "      <td>15</td>\n",
       "    </tr>\n",
       "    <tr>\n",
       "      <th>3</th>\n",
       "      <td>35.108.208.99</td>\n",
       "      <td>2021-05-12 05:06:00+04:30</td>\n",
       "      <td>Mozilla/5.0 (Linux; Android 6.0; CAM-L21) Appl...</td>\n",
       "      <td>20</td>\n",
       "      <td>200</td>\n",
       "      <td>23531</td>\n",
       "      <td>Get</td>\n",
       "      <td>images/fav_icon2.ico</td>\n",
       "      <td>0</td>\n",
       "      <td>1</td>\n",
       "      <td>45</td>\n",
       "    </tr>\n",
       "    <tr>\n",
       "      <th>4</th>\n",
       "      <td>35.110.222.153</td>\n",
       "      <td>2021-05-12 05:06:00+04:30</td>\n",
       "      <td>Mozilla/5.0 (Linux; Android 6.0.1; SAMSUNG SM-...</td>\n",
       "      <td>8</td>\n",
       "      <td>200</td>\n",
       "      <td>4680</td>\n",
       "      <td>Get</td>\n",
       "      <td>images/sanjagh_logo_purpule5.png</td>\n",
       "      <td>0</td>\n",
       "      <td>1</td>\n",
       "      <td>15</td>\n",
       "    </tr>\n",
       "  </tbody>\n",
       "</table>\n",
       "</div>"
      ],
      "text/plain": [
       "                 IP                      time  \\\n",
       "0  207.213.193.143  2021-05-12 05:06:00+04:30   \n",
       "1  207.213.193.143  2021-05-12 05:06:00+04:30   \n",
       "2   35.110.222.153  2021-05-12 05:06:00+04:30   \n",
       "3    35.108.208.99  2021-05-12 05:06:00+04:30   \n",
       "4   35.110.222.153  2021-05-12 05:06:00+04:30   \n",
       "\n",
       "                                           useragent responsetime statuscode  \\\n",
       "0                                Googlebot-Image/1.0           32        304   \n",
       "1                                Googlebot-Image/1.0            4        304   \n",
       "2  Mozilla/5.0 (Linux; Android 6.0.1; SAMSUNG SM-...           32        200   \n",
       "3  Mozilla/5.0 (Linux; Android 6.0; CAM-L21) Appl...           20        200   \n",
       "4  Mozilla/5.0 (Linux; Android 6.0.1; SAMSUNG SM-...            8        200   \n",
       "\n",
       "  responselength method                              path  hour  request1  \\\n",
       "0             0     Get          /cdn/profiles/1026106239     0         1   \n",
       "1             0     Get                  images/badge.png     0         1   \n",
       "2         52567     Get                  /pages/630180847     0         1   \n",
       "3         23531     Get              images/fav_icon2.ico     0         1   \n",
       "4          4680     Get  images/sanjagh_logo_purpule5.png     0         1   \n",
       "\n",
       "   request  \n",
       "0     2086  \n",
       "1     2086  \n",
       "2       15  \n",
       "3       45  \n",
       "4       15  "
      ]
     },
     "execution_count": 247,
     "metadata": {},
     "output_type": "execute_result"
    }
   ],
   "source": [
    "filtered_df.head()"
   ]
  },
  {
   "cell_type": "code",
   "execution_count": 10,
   "id": "1a779e57-0e06-48ac-9dd6-ee4275d86d67",
   "metadata": {},
   "outputs": [],
   "source": [
    "# drop under 4 request\n",
    "rslt_df = filtered_df[filtered_df['request'] > 9]\n",
    "rslt_df=rslt_df.drop(['request1'], axis=1)"
   ]
  },
  {
   "cell_type": "code",
   "execution_count": 11,
   "id": "affc396b-d224-4f2a-aabb-f3e32d659d37",
   "metadata": {},
   "outputs": [],
   "source": [
    "#encode statuscode\n",
    "rslt_df['statuscode']= rslt_df['statuscode'].astype(int) // 100"
   ]
  },
  {
   "cell_type": "code",
   "execution_count": 248,
   "id": "5e633374-636c-4f21-97f8-ddc8134df28a",
   "metadata": {},
   "outputs": [
    {
     "data": {
      "text/html": [
       "<div>\n",
       "<style scoped>\n",
       "    .dataframe tbody tr th:only-of-type {\n",
       "        vertical-align: middle;\n",
       "    }\n",
       "\n",
       "    .dataframe tbody tr th {\n",
       "        vertical-align: top;\n",
       "    }\n",
       "\n",
       "    .dataframe thead th {\n",
       "        text-align: right;\n",
       "    }\n",
       "</style>\n",
       "<table border=\"1\" class=\"dataframe\">\n",
       "  <thead>\n",
       "    <tr style=\"text-align: right;\">\n",
       "      <th></th>\n",
       "      <th>IP</th>\n",
       "      <th>time</th>\n",
       "      <th>useragent</th>\n",
       "      <th>responsetime</th>\n",
       "      <th>statuscode</th>\n",
       "      <th>responselength</th>\n",
       "      <th>method</th>\n",
       "      <th>path</th>\n",
       "      <th>hour</th>\n",
       "      <th>request</th>\n",
       "      <th>depth</th>\n",
       "      <th>robot</th>\n",
       "      <th>anomaly</th>\n",
       "    </tr>\n",
       "  </thead>\n",
       "  <tbody>\n",
       "    <tr>\n",
       "      <th>0</th>\n",
       "      <td>207.213.193.143</td>\n",
       "      <td>2021-05-12 05:06:00+04:30</td>\n",
       "      <td>Googlebot-Image/1.0</td>\n",
       "      <td>32</td>\n",
       "      <td>3</td>\n",
       "      <td>0</td>\n",
       "      <td>Get</td>\n",
       "      <td>/cdn/profiles/1026106239</td>\n",
       "      <td>0</td>\n",
       "      <td>2086</td>\n",
       "      <td>3</td>\n",
       "      <td>0</td>\n",
       "      <td>False</td>\n",
       "    </tr>\n",
       "    <tr>\n",
       "      <th>1</th>\n",
       "      <td>207.213.193.143</td>\n",
       "      <td>2021-05-12 05:06:00+04:30</td>\n",
       "      <td>Googlebot-Image/1.0</td>\n",
       "      <td>4</td>\n",
       "      <td>3</td>\n",
       "      <td>0</td>\n",
       "      <td>Get</td>\n",
       "      <td>images/badge.png</td>\n",
       "      <td>0</td>\n",
       "      <td>2086</td>\n",
       "      <td>1</td>\n",
       "      <td>0</td>\n",
       "      <td>False</td>\n",
       "    </tr>\n",
       "    <tr>\n",
       "      <th>2</th>\n",
       "      <td>35.110.222.153</td>\n",
       "      <td>2021-05-12 05:06:00+04:30</td>\n",
       "      <td>Mozilla/5.0 (Linux; Android 6.0.1; SAMSUNG SM-...</td>\n",
       "      <td>32</td>\n",
       "      <td>2</td>\n",
       "      <td>52567</td>\n",
       "      <td>Get</td>\n",
       "      <td>/pages/630180847</td>\n",
       "      <td>0</td>\n",
       "      <td>15</td>\n",
       "      <td>2</td>\n",
       "      <td>0</td>\n",
       "      <td>False</td>\n",
       "    </tr>\n",
       "    <tr>\n",
       "      <th>3</th>\n",
       "      <td>35.108.208.99</td>\n",
       "      <td>2021-05-12 05:06:00+04:30</td>\n",
       "      <td>Mozilla/5.0 (Linux; Android 6.0; CAM-L21) Appl...</td>\n",
       "      <td>20</td>\n",
       "      <td>2</td>\n",
       "      <td>23531</td>\n",
       "      <td>Get</td>\n",
       "      <td>images/fav_icon2.ico</td>\n",
       "      <td>0</td>\n",
       "      <td>45</td>\n",
       "      <td>1</td>\n",
       "      <td>0</td>\n",
       "      <td>False</td>\n",
       "    </tr>\n",
       "    <tr>\n",
       "      <th>4</th>\n",
       "      <td>35.110.222.153</td>\n",
       "      <td>2021-05-12 05:06:00+04:30</td>\n",
       "      <td>Mozilla/5.0 (Linux; Android 6.0.1; SAMSUNG SM-...</td>\n",
       "      <td>8</td>\n",
       "      <td>2</td>\n",
       "      <td>4680</td>\n",
       "      <td>Get</td>\n",
       "      <td>images/sanjagh_logo_purpule5.png</td>\n",
       "      <td>0</td>\n",
       "      <td>15</td>\n",
       "      <td>1</td>\n",
       "      <td>0</td>\n",
       "      <td>False</td>\n",
       "    </tr>\n",
       "  </tbody>\n",
       "</table>\n",
       "</div>"
      ],
      "text/plain": [
       "                 IP                      time  \\\n",
       "0  207.213.193.143  2021-05-12 05:06:00+04:30   \n",
       "1  207.213.193.143  2021-05-12 05:06:00+04:30   \n",
       "2   35.110.222.153  2021-05-12 05:06:00+04:30   \n",
       "3    35.108.208.99  2021-05-12 05:06:00+04:30   \n",
       "4   35.110.222.153  2021-05-12 05:06:00+04:30   \n",
       "\n",
       "                                           useragent responsetime  statuscode  \\\n",
       "0                                Googlebot-Image/1.0           32           3   \n",
       "1                                Googlebot-Image/1.0            4           3   \n",
       "2  Mozilla/5.0 (Linux; Android 6.0.1; SAMSUNG SM-...           32           2   \n",
       "3  Mozilla/5.0 (Linux; Android 6.0; CAM-L21) Appl...           20           2   \n",
       "4  Mozilla/5.0 (Linux; Android 6.0.1; SAMSUNG SM-...            8           2   \n",
       "\n",
       "  responselength method                              path  hour  request  \\\n",
       "0             0     Get          /cdn/profiles/1026106239     0     2086   \n",
       "1             0     Get                  images/badge.png     0     2086   \n",
       "2         52567     Get                  /pages/630180847     0       15   \n",
       "3         23531     Get              images/fav_icon2.ico     0       45   \n",
       "4          4680     Get  images/sanjagh_logo_purpule5.png     0       15   \n",
       "\n",
       "   depth  robot  anomaly  \n",
       "0      3      0    False  \n",
       "1      1      0    False  \n",
       "2      2      0    False  \n",
       "3      1      0    False  \n",
       "4      1      0    False  "
      ]
     },
     "execution_count": 248,
     "metadata": {},
     "output_type": "execute_result"
    }
   ],
   "source": [
    "rslt_df.head()"
   ]
  },
  {
   "cell_type": "code",
   "execution_count": 13,
   "id": "fe174999-eb54-4009-9474-ccb4b3483646",
   "metadata": {},
   "outputs": [
    {
     "name": "stderr",
     "output_type": "stream",
     "text": [
      "/Users/mohammad/miniforge3/lib/python3.9/site-packages/pandas/core/indexing.py:1637: SettingWithCopyWarning: \n",
      "A value is trying to be set on a copy of a slice from a DataFrame\n",
      "\n",
      "See the caveats in the documentation: https://pandas.pydata.org/pandas-docs/stable/user_guide/indexing.html#returning-a-view-versus-a-copy\n",
      "  self._setitem_single_block(indexer, value, name)\n",
      "/Users/mohammad/miniforge3/lib/python3.9/site-packages/pandas/core/indexing.py:692: SettingWithCopyWarning: \n",
      "A value is trying to be set on a copy of a slice from a DataFrame\n",
      "\n",
      "See the caveats in the documentation: https://pandas.pydata.org/pandas-docs/stable/user_guide/indexing.html#returning-a-view-versus-a-copy\n",
      "  iloc._setitem_with_indexer(indexer, value, self.name)\n",
      "<ipython-input-13-40a34f8fd615>:4: SettingWithCopyWarning: \n",
      "A value is trying to be set on a copy of a slice from a DataFrame.\n",
      "Try using .loc[row_indexer,col_indexer] = value instead\n",
      "\n",
      "See the caveats in the documentation: https://pandas.pydata.org/pandas-docs/stable/user_guide/indexing.html#returning-a-view-versus-a-copy\n",
      "  rslt_df['depth']= rslt_df['path'].str.count('/')\n"
     ]
    }
   ],
   "source": [
    "#missing values\n",
    "rslt_df = rslt_df[rslt_df['IP'] != '- ']\n",
    "rslt_df['responsetime'].loc[(rslt_df['responsetime'] == ' -')] = 0\n",
    "rslt_df['depth']= rslt_df['path'].str.count('/')"
   ]
  },
  {
   "cell_type": "code",
   "execution_count": 14,
   "id": "1e59da9b-43cd-4260-9a91-a84d4e8d9283",
   "metadata": {},
   "outputs": [
    {
     "name": "stderr",
     "output_type": "stream",
     "text": [
      "<ipython-input-14-35c240f9cb0f>:2: SettingWithCopyWarning: \n",
      "A value is trying to be set on a copy of a slice from a DataFrame.\n",
      "Try using .loc[row_indexer,col_indexer] = value instead\n",
      "\n",
      "See the caveats in the documentation: https://pandas.pydata.org/pandas-docs/stable/user_guide/indexing.html#returning-a-view-versus-a-copy\n",
      "  rslt_df['robot']=rslt_df['path'].str.contains(\"robots.txt\")\n",
      "<ipython-input-14-35c240f9cb0f>:3: SettingWithCopyWarning: \n",
      "A value is trying to be set on a copy of a slice from a DataFrame.\n",
      "Try using .loc[row_indexer,col_indexer] = value instead\n",
      "\n",
      "See the caveats in the documentation: https://pandas.pydata.org/pandas-docs/stable/user_guide/indexing.html#returning-a-view-versus-a-copy\n",
      "  rslt_df['robot'] = rslt_df['robot']*1\n"
     ]
    },
    {
     "data": {
      "text/plain": [
       "0    1142046\n",
       "1        104\n",
       "Name: robot, dtype: int64"
      ]
     },
     "execution_count": 14,
     "metadata": {},
     "output_type": "execute_result"
    }
   ],
   "source": [
    "#feature extraction \"robot\"\n",
    "rslt_df['robot']=rslt_df['path'].str.contains(\"robots.txt\")\n",
    "rslt_df['robot'] = rslt_df['robot']*1\n",
    "rslt_df['robot'].value_counts()"
   ]
  },
  {
   "cell_type": "code",
   "execution_count": 15,
   "id": "a7a08d86-d7a1-48a9-a650-5b708c992727",
   "metadata": {},
   "outputs": [
    {
     "name": "stderr",
     "output_type": "stream",
     "text": [
      "<ipython-input-15-584aaa50454b>:2: SettingWithCopyWarning: \n",
      "A value is trying to be set on a copy of a slice from a DataFrame.\n",
      "Try using .loc[row_indexer,col_indexer] = value instead\n",
      "\n",
      "See the caveats in the documentation: https://pandas.pydata.org/pandas-docs/stable/user_guide/indexing.html#returning-a-view-versus-a-copy\n",
      "  rslt_df['anomaly']=0\n",
      "<ipython-input-15-584aaa50454b>:3: SettingWithCopyWarning: \n",
      "A value is trying to be set on a copy of a slice from a DataFrame.\n",
      "Try using .loc[row_indexer,col_indexer] = value instead\n",
      "\n",
      "See the caveats in the documentation: https://pandas.pydata.org/pandas-docs/stable/user_guide/indexing.html#returning-a-view-versus-a-copy\n",
      "  rslt_df['anomaly']=rslt_df['useragent'].str.contains(\"Googlebot\")\n",
      "<ipython-input-15-584aaa50454b>:4: SettingWithCopyWarning: \n",
      "A value is trying to be set on a copy of a slice from a DataFrame.\n",
      "Try using .loc[row_indexer,col_indexer] = value instead\n",
      "\n",
      "See the caveats in the documentation: https://pandas.pydata.org/pandas-docs/stable/user_guide/indexing.html#returning-a-view-versus-a-copy\n",
      "  rslt_df['anomaly']=rslt_df['useragent'].str.contains(\"python\")\n",
      "<ipython-input-15-584aaa50454b>:5: SettingWithCopyWarning: \n",
      "A value is trying to be set on a copy of a slice from a DataFrame.\n",
      "Try using .loc[row_indexer,col_indexer] = value instead\n",
      "\n",
      "See the caveats in the documentation: https://pandas.pydata.org/pandas-docs/stable/user_guide/indexing.html#returning-a-view-versus-a-copy\n",
      "  rslt_df['anomaly']=rslt_df['useragent'].str.contains(\"Go-http-client\")\n",
      "<ipython-input-15-584aaa50454b>:6: SettingWithCopyWarning: \n",
      "A value is trying to be set on a copy of a slice from a DataFrame.\n",
      "Try using .loc[row_indexer,col_indexer] = value instead\n",
      "\n",
      "See the caveats in the documentation: https://pandas.pydata.org/pandas-docs/stable/user_guide/indexing.html#returning-a-view-versus-a-copy\n",
      "  rslt_df['anomaly']=rslt_df['useragent'].str.contains(\"MBCrawler\")\n",
      "<ipython-input-15-584aaa50454b>:7: SettingWithCopyWarning: \n",
      "A value is trying to be set on a copy of a slice from a DataFrame.\n",
      "Try using .loc[row_indexer,col_indexer] = value instead\n",
      "\n",
      "See the caveats in the documentation: https://pandas.pydata.org/pandas-docs/stable/user_guide/indexing.html#returning-a-view-versus-a-copy\n",
      "  rslt_df['anomaly']=rslt_df['useragent'].str.contains(\"MJ12bot\")\n",
      "<ipython-input-15-584aaa50454b>:8: SettingWithCopyWarning: \n",
      "A value is trying to be set on a copy of a slice from a DataFrame.\n",
      "Try using .loc[row_indexer,col_indexer] = value instead\n",
      "\n",
      "See the caveats in the documentation: https://pandas.pydata.org/pandas-docs/stable/user_guide/indexing.html#returning-a-view-versus-a-copy\n",
      "  rslt_df['anomaly']=rslt_df['useragent'].str.contains(\"facebookexternalhit\")\n",
      "<ipython-input-15-584aaa50454b>:9: SettingWithCopyWarning: \n",
      "A value is trying to be set on a copy of a slice from a DataFrame.\n",
      "Try using .loc[row_indexer,col_indexer] = value instead\n",
      "\n",
      "See the caveats in the documentation: https://pandas.pydata.org/pandas-docs/stable/user_guide/indexing.html#returning-a-view-versus-a-copy\n",
      "  rslt_df['anomaly']=rslt_df['useragent'].str.contains(\"Googlebot\")\n",
      "<ipython-input-15-584aaa50454b>:10: SettingWithCopyWarning: \n",
      "A value is trying to be set on a copy of a slice from a DataFrame.\n",
      "Try using .loc[row_indexer,col_indexer] = value instead\n",
      "\n",
      "See the caveats in the documentation: https://pandas.pydata.org/pandas-docs/stable/user_guide/indexing.html#returning-a-view-versus-a-copy\n",
      "  rslt_df['anomaly']=rslt_df['useragent'].str.contains(\"CCBot\")\n",
      "<ipython-input-15-584aaa50454b>:11: SettingWithCopyWarning: \n",
      "A value is trying to be set on a copy of a slice from a DataFrame.\n",
      "Try using .loc[row_indexer,col_indexer] = value instead\n",
      "\n",
      "See the caveats in the documentation: https://pandas.pydata.org/pandas-docs/stable/user_guide/indexing.html#returning-a-view-versus-a-copy\n",
      "  rslt_df['anomaly']=rslt_df['useragent'].str.contains(\"FreshpingBot\")\n",
      "<ipython-input-15-584aaa50454b>:12: SettingWithCopyWarning: \n",
      "A value is trying to be set on a copy of a slice from a DataFrame.\n",
      "Try using .loc[row_indexer,col_indexer] = value instead\n",
      "\n",
      "See the caveats in the documentation: https://pandas.pydata.org/pandas-docs/stable/user_guide/indexing.html#returning-a-view-versus-a-copy\n",
      "  rslt_df['anomaly']=rslt_df['useragent'].str.contains(\"AdsBot-Google\")\n",
      "<ipython-input-15-584aaa50454b>:13: SettingWithCopyWarning: \n",
      "A value is trying to be set on a copy of a slice from a DataFrame.\n",
      "Try using .loc[row_indexer,col_indexer] = value instead\n",
      "\n",
      "See the caveats in the documentation: https://pandas.pydata.org/pandas-docs/stable/user_guide/indexing.html#returning-a-view-versus-a-copy\n",
      "  rslt_df['anomaly']=rslt_df['useragent'].str.contains(\"okhttp\")\n",
      "<ipython-input-15-584aaa50454b>:14: SettingWithCopyWarning: \n",
      "A value is trying to be set on a copy of a slice from a DataFrame.\n",
      "Try using .loc[row_indexer,col_indexer] = value instead\n",
      "\n",
      "See the caveats in the documentation: https://pandas.pydata.org/pandas-docs/stable/user_guide/indexing.html#returning-a-view-versus-a-copy\n",
      "  rslt_df['anomaly']=rslt_df['useragent'].str.contains(\"Twitterbot\")\n",
      "<ipython-input-15-584aaa50454b>:15: SettingWithCopyWarning: \n",
      "A value is trying to be set on a copy of a slice from a DataFrame.\n",
      "Try using .loc[row_indexer,col_indexer] = value instead\n",
      "\n",
      "See the caveats in the documentation: https://pandas.pydata.org/pandas-docs/stable/user_guide/indexing.html#returning-a-view-versus-a-copy\n",
      "  rslt_df['anomaly']=rslt_df['useragent'].str.contains(\"UptimeRobot\")\n",
      "<ipython-input-15-584aaa50454b>:16: SettingWithCopyWarning: \n",
      "A value is trying to be set on a copy of a slice from a DataFrame.\n",
      "Try using .loc[row_indexer,col_indexer] = value instead\n",
      "\n",
      "See the caveats in the documentation: https://pandas.pydata.org/pandas-docs/stable/user_guide/indexing.html#returning-a-view-versus-a-copy\n",
      "  rslt_df['anomaly']=rslt_df['useragent'].str.contains(\"CFNetwork\")\n",
      "<ipython-input-15-584aaa50454b>:17: SettingWithCopyWarning: \n",
      "A value is trying to be set on a copy of a slice from a DataFrame.\n",
      "Try using .loc[row_indexer,col_indexer] = value instead\n",
      "\n",
      "See the caveats in the documentation: https://pandas.pydata.org/pandas-docs/stable/user_guide/indexing.html#returning-a-view-versus-a-copy\n",
      "  rslt_df['anomaly']=rslt_df['useragent'].str.contains(\"PetalBot\")\n",
      "<ipython-input-15-584aaa50454b>:18: SettingWithCopyWarning: \n",
      "A value is trying to be set on a copy of a slice from a DataFrame.\n",
      "Try using .loc[row_indexer,col_indexer] = value instead\n",
      "\n",
      "See the caveats in the documentation: https://pandas.pydata.org/pandas-docs/stable/user_guide/indexing.html#returning-a-view-versus-a-copy\n",
      "  rslt_df['anomaly']=rslt_df['useragent'].str.contains(\"AhrefsBot\")\n",
      "<ipython-input-15-584aaa50454b>:19: SettingWithCopyWarning: \n",
      "A value is trying to be set on a copy of a slice from a DataFrame.\n",
      "Try using .loc[row_indexer,col_indexer] = value instead\n",
      "\n",
      "See the caveats in the documentation: https://pandas.pydata.org/pandas-docs/stable/user_guide/indexing.html#returning-a-view-versus-a-copy\n",
      "  rslt_df['anomaly']=rslt_df['useragent'].str.contains(\"SemrushBot\")\n",
      "<ipython-input-15-584aaa50454b>:20: SettingWithCopyWarning: \n",
      "A value is trying to be set on a copy of a slice from a DataFrame.\n",
      "Try using .loc[row_indexer,col_indexer] = value instead\n",
      "\n",
      "See the caveats in the documentation: https://pandas.pydata.org/pandas-docs/stable/user_guide/indexing.html#returning-a-view-versus-a-copy\n",
      "  rslt_df['anomaly']=rslt_df['useragent'].str.contains(\"bingbot\")\n"
     ]
    }
   ],
   "source": [
    "#create anomaly labels column\n",
    "rslt_df['anomaly']=0\n",
    "rslt_df['anomaly']=rslt_df['useragent'].str.contains(\"Googlebot\")\n",
    "rslt_df['anomaly']=rslt_df['useragent'].str.contains(\"python\")\n",
    "rslt_df['anomaly']=rslt_df['useragent'].str.contains(\"Go-http-client\")\n",
    "rslt_df['anomaly']=rslt_df['useragent'].str.contains(\"MBCrawler\")\n",
    "rslt_df['anomaly']=rslt_df['useragent'].str.contains(\"MJ12bot\")\n",
    "rslt_df['anomaly']=rslt_df['useragent'].str.contains(\"facebookexternalhit\")\n",
    "rslt_df['anomaly']=rslt_df['useragent'].str.contains(\"Googlebot\")\n",
    "rslt_df['anomaly']=rslt_df['useragent'].str.contains(\"CCBot\")\n",
    "rslt_df['anomaly']=rslt_df['useragent'].str.contains(\"FreshpingBot\")\n",
    "rslt_df['anomaly']=rslt_df['useragent'].str.contains(\"AdsBot-Google\")\n",
    "rslt_df['anomaly']=rslt_df['useragent'].str.contains(\"okhttp\")\n",
    "rslt_df['anomaly']=rslt_df['useragent'].str.contains(\"Twitterbot\")\n",
    "rslt_df['anomaly']=rslt_df['useragent'].str.contains(\"UptimeRobot\")\n",
    "rslt_df['anomaly']=rslt_df['useragent'].str.contains(\"CFNetwork\")\n",
    "rslt_df['anomaly']=rslt_df['useragent'].str.contains(\"PetalBot\")\n",
    "rslt_df['anomaly']=rslt_df['useragent'].str.contains(\"AhrefsBot\")\n",
    "rslt_df['anomaly']=rslt_df['useragent'].str.contains(\"SemrushBot\")\n",
    "rslt_df['anomaly']=rslt_df['useragent'].str.contains(\"bingbot\")"
   ]
  },
  {
   "cell_type": "code",
   "execution_count": 16,
   "id": "37574e61-62d5-44cf-ad35-4f2362c7450d",
   "metadata": {},
   "outputs": [
    {
     "data": {
      "text/plain": [
       "False    1139814\n",
       "True        2336\n",
       "Name: anomaly, dtype: int64"
      ]
     },
     "execution_count": 16,
     "metadata": {},
     "output_type": "execute_result"
    }
   ],
   "source": [
    "rslt_df['anomaly'].value_counts()"
   ]
  },
  {
   "cell_type": "code",
   "execution_count": 17,
   "id": "420bd509-beb0-4c37-b4d9-8c7e98ea438c",
   "metadata": {},
   "outputs": [
    {
     "data": {
      "text/plain": [
       "False    1139814\n",
       "True        2336\n",
       "Name: anomaly, dtype: int64"
      ]
     },
     "execution_count": 17,
     "metadata": {},
     "output_type": "execute_result"
    }
   ],
   "source": [
    "rslt_df['anomaly'].value_counts()"
   ]
  },
  {
   "cell_type": "code",
   "execution_count": 18,
   "id": "06607f7c-4cde-4f0b-a21c-136425b0b563",
   "metadata": {},
   "outputs": [],
   "source": [
    "rslt_df_3=rslt_df.copy()\n",
    "from tensorflow import keras\n",
    "from sklearn.preprocessing import StandardScaler\n",
    "import plotly.graph_objects as go\n",
    "from tensorflow.keras.models import Sequential\n",
    "from tensorflow.keras.layers import Dense, LSTM, Dropout, RepeatVector, TimeDistributed"
   ]
  },
  {
   "cell_type": "code",
   "execution_count": 249,
   "id": "44138137-f2bc-4c2f-a4e1-e40a52e46526",
   "metadata": {},
   "outputs": [
    {
     "data": {
      "text/html": [
       "<div>\n",
       "<style scoped>\n",
       "    .dataframe tbody tr th:only-of-type {\n",
       "        vertical-align: middle;\n",
       "    }\n",
       "\n",
       "    .dataframe tbody tr th {\n",
       "        vertical-align: top;\n",
       "    }\n",
       "\n",
       "    .dataframe thead th {\n",
       "        text-align: right;\n",
       "    }\n",
       "</style>\n",
       "<table border=\"1\" class=\"dataframe\">\n",
       "  <thead>\n",
       "    <tr style=\"text-align: right;\">\n",
       "      <th></th>\n",
       "      <th>IP</th>\n",
       "      <th>time</th>\n",
       "      <th>useragent</th>\n",
       "      <th>responsetime</th>\n",
       "      <th>statuscode</th>\n",
       "      <th>responselength</th>\n",
       "      <th>method</th>\n",
       "      <th>path</th>\n",
       "      <th>hour</th>\n",
       "      <th>request</th>\n",
       "      <th>...</th>\n",
       "      <th>(Get,)</th>\n",
       "      <th>(Head,)</th>\n",
       "      <th>(Options,)</th>\n",
       "      <th>(Post,)</th>\n",
       "      <th>(Put,)</th>\n",
       "      <th>(1,)</th>\n",
       "      <th>(2,)</th>\n",
       "      <th>(3,)</th>\n",
       "      <th>(4,)</th>\n",
       "      <th>(5,)</th>\n",
       "    </tr>\n",
       "  </thead>\n",
       "  <tbody>\n",
       "    <tr>\n",
       "      <th>0</th>\n",
       "      <td>207.213.193.143</td>\n",
       "      <td>2021-05-12 05:06:00+04:30</td>\n",
       "      <td>Googlebot-Image/1.0</td>\n",
       "      <td>32</td>\n",
       "      <td>3</td>\n",
       "      <td>0</td>\n",
       "      <td>Get</td>\n",
       "      <td>/cdn/profiles/1026106239</td>\n",
       "      <td>0</td>\n",
       "      <td>2086</td>\n",
       "      <td>...</td>\n",
       "      <td>1.0</td>\n",
       "      <td>0.0</td>\n",
       "      <td>0.0</td>\n",
       "      <td>0.0</td>\n",
       "      <td>0.0</td>\n",
       "      <td>0.0</td>\n",
       "      <td>0.0</td>\n",
       "      <td>1.0</td>\n",
       "      <td>0.0</td>\n",
       "      <td>0.0</td>\n",
       "    </tr>\n",
       "    <tr>\n",
       "      <th>1</th>\n",
       "      <td>207.213.193.143</td>\n",
       "      <td>2021-05-12 05:06:00+04:30</td>\n",
       "      <td>Googlebot-Image/1.0</td>\n",
       "      <td>4</td>\n",
       "      <td>3</td>\n",
       "      <td>0</td>\n",
       "      <td>Get</td>\n",
       "      <td>images/badge.png</td>\n",
       "      <td>0</td>\n",
       "      <td>2086</td>\n",
       "      <td>...</td>\n",
       "      <td>1.0</td>\n",
       "      <td>0.0</td>\n",
       "      <td>0.0</td>\n",
       "      <td>0.0</td>\n",
       "      <td>0.0</td>\n",
       "      <td>0.0</td>\n",
       "      <td>0.0</td>\n",
       "      <td>1.0</td>\n",
       "      <td>0.0</td>\n",
       "      <td>0.0</td>\n",
       "    </tr>\n",
       "    <tr>\n",
       "      <th>2</th>\n",
       "      <td>35.110.222.153</td>\n",
       "      <td>2021-05-12 05:06:00+04:30</td>\n",
       "      <td>Mozilla/5.0 (Linux; Android 6.0.1; SAMSUNG SM-...</td>\n",
       "      <td>32</td>\n",
       "      <td>2</td>\n",
       "      <td>52567</td>\n",
       "      <td>Get</td>\n",
       "      <td>/pages/630180847</td>\n",
       "      <td>0</td>\n",
       "      <td>15</td>\n",
       "      <td>...</td>\n",
       "      <td>1.0</td>\n",
       "      <td>0.0</td>\n",
       "      <td>0.0</td>\n",
       "      <td>0.0</td>\n",
       "      <td>0.0</td>\n",
       "      <td>0.0</td>\n",
       "      <td>1.0</td>\n",
       "      <td>0.0</td>\n",
       "      <td>0.0</td>\n",
       "      <td>0.0</td>\n",
       "    </tr>\n",
       "    <tr>\n",
       "      <th>3</th>\n",
       "      <td>35.108.208.99</td>\n",
       "      <td>2021-05-12 05:06:00+04:30</td>\n",
       "      <td>Mozilla/5.0 (Linux; Android 6.0; CAM-L21) Appl...</td>\n",
       "      <td>20</td>\n",
       "      <td>2</td>\n",
       "      <td>23531</td>\n",
       "      <td>Get</td>\n",
       "      <td>images/fav_icon2.ico</td>\n",
       "      <td>0</td>\n",
       "      <td>45</td>\n",
       "      <td>...</td>\n",
       "      <td>1.0</td>\n",
       "      <td>0.0</td>\n",
       "      <td>0.0</td>\n",
       "      <td>0.0</td>\n",
       "      <td>0.0</td>\n",
       "      <td>0.0</td>\n",
       "      <td>1.0</td>\n",
       "      <td>0.0</td>\n",
       "      <td>0.0</td>\n",
       "      <td>0.0</td>\n",
       "    </tr>\n",
       "    <tr>\n",
       "      <th>4</th>\n",
       "      <td>35.110.222.153</td>\n",
       "      <td>2021-05-12 05:06:00+04:30</td>\n",
       "      <td>Mozilla/5.0 (Linux; Android 6.0.1; SAMSUNG SM-...</td>\n",
       "      <td>8</td>\n",
       "      <td>2</td>\n",
       "      <td>4680</td>\n",
       "      <td>Get</td>\n",
       "      <td>images/sanjagh_logo_purpule5.png</td>\n",
       "      <td>0</td>\n",
       "      <td>15</td>\n",
       "      <td>...</td>\n",
       "      <td>1.0</td>\n",
       "      <td>0.0</td>\n",
       "      <td>0.0</td>\n",
       "      <td>0.0</td>\n",
       "      <td>0.0</td>\n",
       "      <td>0.0</td>\n",
       "      <td>1.0</td>\n",
       "      <td>0.0</td>\n",
       "      <td>0.0</td>\n",
       "      <td>0.0</td>\n",
       "    </tr>\n",
       "  </tbody>\n",
       "</table>\n",
       "<p>5 rows × 23 columns</p>\n",
       "</div>"
      ],
      "text/plain": [
       "                 IP                      time  \\\n",
       "0  207.213.193.143  2021-05-12 05:06:00+04:30   \n",
       "1  207.213.193.143  2021-05-12 05:06:00+04:30   \n",
       "2   35.110.222.153  2021-05-12 05:06:00+04:30   \n",
       "3    35.108.208.99  2021-05-12 05:06:00+04:30   \n",
       "4   35.110.222.153  2021-05-12 05:06:00+04:30   \n",
       "\n",
       "                                           useragent responsetime  statuscode  \\\n",
       "0                                Googlebot-Image/1.0           32           3   \n",
       "1                                Googlebot-Image/1.0            4           3   \n",
       "2  Mozilla/5.0 (Linux; Android 6.0.1; SAMSUNG SM-...           32           2   \n",
       "3  Mozilla/5.0 (Linux; Android 6.0; CAM-L21) Appl...           20           2   \n",
       "4  Mozilla/5.0 (Linux; Android 6.0.1; SAMSUNG SM-...            8           2   \n",
       "\n",
       "  responselength method                              path  hour  request  ...  \\\n",
       "0             0     Get          /cdn/profiles/1026106239     0     2086  ...   \n",
       "1             0     Get                  images/badge.png     0     2086  ...   \n",
       "2         52567     Get                  /pages/630180847     0       15  ...   \n",
       "3         23531     Get              images/fav_icon2.ico     0       45  ...   \n",
       "4          4680     Get  images/sanjagh_logo_purpule5.png     0       15  ...   \n",
       "\n",
       "   (Get,)  (Head,)  (Options,)  (Post,)  (Put,)  (1,)  (2,)  (3,)  (4,)  (5,)  \n",
       "0     1.0      0.0         0.0      0.0     0.0   0.0   0.0   1.0   0.0   0.0  \n",
       "1     1.0      0.0         0.0      0.0     0.0   0.0   0.0   1.0   0.0   0.0  \n",
       "2     1.0      0.0         0.0      0.0     0.0   0.0   1.0   0.0   0.0   0.0  \n",
       "3     1.0      0.0         0.0      0.0     0.0   0.0   1.0   0.0   0.0   0.0  \n",
       "4     1.0      0.0         0.0      0.0     0.0   0.0   1.0   0.0   0.0   0.0  \n",
       "\n",
       "[5 rows x 23 columns]"
      ]
     },
     "execution_count": 249,
     "metadata": {},
     "output_type": "execute_result"
    }
   ],
   "source": [
    "rslt_df_3.head()"
   ]
  },
  {
   "cell_type": "code",
   "execution_count": 20,
   "id": "4a6f6394-128b-4c1b-bbb9-3bfe11fa747b",
   "metadata": {},
   "outputs": [],
   "source": [
    "rslt_df_3['time'] = pd.to_datetime(rslt_df_3['time'])"
   ]
  },
  {
   "cell_type": "code",
   "execution_count": 21,
   "id": "012761cb-e62c-4661-970b-65257fd69b1b",
   "metadata": {},
   "outputs": [
    {
     "name": "stdout",
     "output_type": "stream",
     "text": [
      "[array([1, 2, 3, 4, 5])]\n",
      "[[0. 0. 1. 0. 0.]\n",
      " [0. 0. 1. 0. 0.]\n",
      " [0. 1. 0. 0. 0.]\n",
      " ...\n",
      " [0. 0. 1. 0. 0.]\n",
      " [0. 0. 1. 0. 0.]\n",
      " [0. 0. 1. 0. 0.]]\n",
      "           1    2    3    4    5\n",
      "0        0.0  0.0  1.0  0.0  0.0\n",
      "1        0.0  0.0  1.0  0.0  0.0\n",
      "2        0.0  1.0  0.0  0.0  0.0\n",
      "3        0.0  1.0  0.0  0.0  0.0\n",
      "4        0.0  1.0  0.0  0.0  0.0\n",
      "...      ...  ...  ...  ...  ...\n",
      "1142145  0.0  0.0  1.0  0.0  0.0\n",
      "1142146  0.0  0.0  1.0  0.0  0.0\n",
      "1142147  0.0  0.0  1.0  0.0  0.0\n",
      "1142148  0.0  0.0  1.0  0.0  0.0\n",
      "1142149  0.0  0.0  1.0  0.0  0.0\n",
      "\n",
      "[1142150 rows x 5 columns]\n",
      "[array(['Get', 'Head', 'Options', 'Post', 'Put'], dtype=object)]\n",
      "[[1. 0. 0. 0. 0.]\n",
      " [1. 0. 0. 0. 0.]\n",
      " [1. 0. 0. 0. 0.]\n",
      " ...\n",
      " [1. 0. 0. 0. 0.]\n",
      " [1. 0. 0. 0. 0.]\n",
      " [1. 0. 0. 0. 0.]]\n",
      "         Get Head Options Post  Put\n",
      "0        1.0  0.0     0.0  0.0  0.0\n",
      "1        1.0  0.0     0.0  0.0  0.0\n",
      "2        1.0  0.0     0.0  0.0  0.0\n",
      "3        1.0  0.0     0.0  0.0  0.0\n",
      "4        1.0  0.0     0.0  0.0  0.0\n",
      "...      ...  ...     ...  ...  ...\n",
      "1142145  1.0  0.0     0.0  0.0  0.0\n",
      "1142146  1.0  0.0     0.0  0.0  0.0\n",
      "1142147  1.0  0.0     0.0  0.0  0.0\n",
      "1142148  1.0  0.0     0.0  0.0  0.0\n",
      "1142149  1.0  0.0     0.0  0.0  0.0\n",
      "\n",
      "[1142150 rows x 5 columns]\n"
     ]
    }
   ],
   "source": [
    "#OneHotEncoding \"statuscode\" & \"method\"\n",
    "from sklearn.preprocessing import OneHotEncoder\n",
    "ohe = OneHotEncoder(sparse=False)\n",
    "result = ohe.fit_transform(rslt_df_3[['statuscode']])\n",
    "print(ohe.categories_)\n",
    "print(result)\n",
    "\n",
    "print(pd.DataFrame(result, columns=ohe.categories_))\n",
    "a1=pd.DataFrame(result, columns=ohe.categories_,index=rslt_df.index)\n",
    "\n",
    "ohe1 = OneHotEncoder(sparse=False)\n",
    "\n",
    "result2 = ohe1.fit_transform(rslt_df_3[['method']].astype(str))\n",
    "\n",
    "print(ohe1.categories_)\n",
    "print(result2)\n",
    "\n",
    "\n",
    "print(pd.DataFrame(result2, columns=ohe1.categories_))\n",
    "a2=pd.DataFrame(result2, columns=ohe1.categories_,index=rslt_df.index)\n",
    "\n",
    "rslt_df_3=pd.concat((rslt_df_3,a2),axis=1)\n",
    "rslt_df_3=pd.concat((rslt_df_3,a1),axis=1)"
   ]
  },
  {
   "cell_type": "code",
   "execution_count": 22,
   "id": "0b9d77b4-5592-4b74-8e1f-bfede26e2e80",
   "metadata": {},
   "outputs": [],
   "source": [
    "from joblib import dump, load"
   ]
  },
  {
   "cell_type": "code",
   "execution_count": 23,
   "id": "3160ea49-bef2-4939-b412-a15cb6e23315",
   "metadata": {},
   "outputs": [],
   "source": [
    "import os\n",
    "import pandas as pd\n",
    "import numpy as np\n",
    "from sklearn.preprocessing import MinMaxScaler\n",
    "#from sklearn.externals import joblib\n",
    "import seaborn as sns\n",
    "sns.set(color_codes=True)\n",
    "import matplotlib.pyplot as plt\n",
    "%matplotlib inline\n",
    "\n",
    "from numpy.random import seed\n",
    "#from tensorflow import set_random_seed\n",
    "import tensorflow as tf\n",
    "#tf.logging.set_verbosity(tf.logging.ERROR)\n",
    "\n",
    "\n",
    "from keras.layers import Input, Dropout, Dense, LSTM, TimeDistributed, RepeatVector\n",
    "from keras.models import Model\n",
    "from keras import regularizers"
   ]
  },
  {
   "cell_type": "code",
   "execution_count": 24,
   "id": "91d83ddc-bccb-4769-b7e8-142fb89f14c7",
   "metadata": {},
   "outputs": [
    {
     "data": {
      "text/plain": [
       "['ohe_data']"
      ]
     },
     "execution_count": 24,
     "metadata": {},
     "output_type": "execute_result"
    }
   ],
   "source": [
    "#save OneHotEncode\n",
    "ohe_filename = \"ohe_data\"\n",
    "dump(ohe, ohe_filename)"
   ]
  },
  {
   "cell_type": "code",
   "execution_count": 25,
   "id": "def09605-09c9-42d1-93d8-601196eab80c",
   "metadata": {},
   "outputs": [
    {
     "data": {
      "text/plain": [
       "['ohe1_data']"
      ]
     },
     "execution_count": 25,
     "metadata": {},
     "output_type": "execute_result"
    }
   ],
   "source": [
    "#save OneHotEncode\n",
    "ohe1_filename = \"ohe1_data\"\n",
    "dump(ohe1, ohe1_filename)"
   ]
  },
  {
   "cell_type": "code",
   "execution_count": 26,
   "id": "f35376f4-49a0-476c-9923-da0c7bf9c424",
   "metadata": {},
   "outputs": [
    {
     "data": {
      "text/plain": [
       "((770854, 23), (371296, 23))"
      ]
     },
     "execution_count": 26,
     "metadata": {},
     "output_type": "execute_result"
    }
   ],
   "source": [
    "#Train Test Split\n",
    "train, test = rslt_df_3.loc[rslt_df_3['hour'] <= 7 ], rslt_df_3.loc[rslt_df_3['hour'] > 7]\n",
    "train.shape, test.shape"
   ]
  },
  {
   "cell_type": "code",
   "execution_count": 27,
   "id": "4085a8e8-7886-4daa-b1a4-e3f916ae743e",
   "metadata": {},
   "outputs": [
    {
     "name": "stderr",
     "output_type": "stream",
     "text": [
      "<ipython-input-27-a4c131f41008>:5: SettingWithCopyWarning: \n",
      "A value is trying to be set on a copy of a slice from a DataFrame.\n",
      "Try using .loc[row_indexer,col_indexer] = value instead\n",
      "\n",
      "See the caveats in the documentation: https://pandas.pydata.org/pandas-docs/stable/user_guide/indexing.html#returning-a-view-versus-a-copy\n",
      "  train['depth'] = scaler.transform(train[['depth']])\n",
      "<ipython-input-27-a4c131f41008>:6: SettingWithCopyWarning: \n",
      "A value is trying to be set on a copy of a slice from a DataFrame.\n",
      "Try using .loc[row_indexer,col_indexer] = value instead\n",
      "\n",
      "See the caveats in the documentation: https://pandas.pydata.org/pandas-docs/stable/user_guide/indexing.html#returning-a-view-versus-a-copy\n",
      "  test['depth'] = scaler.transform(test[['depth']])\n"
     ]
    }
   ],
   "source": [
    "#MinMaxScaler \"depth\"\n",
    "scaler = MinMaxScaler()\n",
    "scaler = scaler.fit(train[['depth']])\n",
    "\n",
    "train['depth'] = scaler.transform(train[['depth']])\n",
    "test['depth'] = scaler.transform(test[['depth']])"
   ]
  },
  {
   "cell_type": "code",
   "execution_count": 28,
   "id": "b03e8634-e3fb-43a8-992f-c97ef7bf865e",
   "metadata": {},
   "outputs": [
    {
     "data": {
      "text/plain": [
       "0         0.50\n",
       "1         0.00\n",
       "2         0.25\n",
       "3         0.00\n",
       "4         0.00\n",
       "          ... \n",
       "851762    0.00\n",
       "851763    0.25\n",
       "851764    0.00\n",
       "851765    0.50\n",
       "851766    0.00\n",
       "Name: depth, Length: 770854, dtype: float64"
      ]
     },
     "execution_count": 28,
     "metadata": {},
     "output_type": "execute_result"
    }
   ],
   "source": [
    "train['depth']"
   ]
  },
  {
   "cell_type": "code",
   "execution_count": 29,
   "id": "0fb84d6e-28ad-4e19-b9ab-3b47396b0634",
   "metadata": {},
   "outputs": [
    {
     "data": {
      "text/plain": [
       "['scaler_data']"
      ]
     },
     "execution_count": 29,
     "metadata": {},
     "output_type": "execute_result"
    }
   ],
   "source": [
    "#save scaler\n",
    "scaler_filename = \"scaler_data\"\n",
    "dump(scaler, scaler_filename)"
   ]
  },
  {
   "cell_type": "code",
   "execution_count": 30,
   "id": "6b6c82c5-05ad-4ed8-a7e3-929bc569f9f2",
   "metadata": {},
   "outputs": [
    {
     "name": "stderr",
     "output_type": "stream",
     "text": [
      "<ipython-input-30-fd5fa77df08d>:6: SettingWithCopyWarning: \n",
      "A value is trying to be set on a copy of a slice from a DataFrame.\n",
      "Try using .loc[row_indexer,col_indexer] = value instead\n",
      "\n",
      "See the caveats in the documentation: https://pandas.pydata.org/pandas-docs/stable/user_guide/indexing.html#returning-a-view-versus-a-copy\n",
      "  train['responsetime'] = qt.transform(train[['responsetime']])\n",
      "<ipython-input-30-fd5fa77df08d>:7: SettingWithCopyWarning: \n",
      "A value is trying to be set on a copy of a slice from a DataFrame.\n",
      "Try using .loc[row_indexer,col_indexer] = value instead\n",
      "\n",
      "See the caveats in the documentation: https://pandas.pydata.org/pandas-docs/stable/user_guide/indexing.html#returning-a-view-versus-a-copy\n",
      "  test['responsetime'] = qt.transform(test[['responsetime']])\n"
     ]
    }
   ],
   "source": [
    "#QuantileTransform \"responsetime\" & \"responselength\" \n",
    "from sklearn.preprocessing import QuantileTransformer\n",
    "from sklearn.preprocessing import quantile_transform\n",
    "qt=QuantileTransformer(n_quantiles=10, random_state=0)\n",
    "qt=qt.fit(train[['responsetime']])\n",
    "train['responsetime'] = qt.transform(train[['responsetime']])\n",
    "test['responsetime'] = qt.transform(test[['responsetime']])\n"
   ]
  },
  {
   "cell_type": "code",
   "execution_count": 31,
   "id": "95b29d2c-081d-4819-b869-b707011446ed",
   "metadata": {},
   "outputs": [
    {
     "data": {
      "text/plain": [
       "['qt_data']"
      ]
     },
     "execution_count": 31,
     "metadata": {},
     "output_type": "execute_result"
    }
   ],
   "source": [
    "#save QuantileTransforms\n",
    "qt_filename = \"qt_data\"\n",
    "dump(qt, qt_filename)"
   ]
  },
  {
   "cell_type": "code",
   "execution_count": 32,
   "id": "57d7c9a2-3572-45cd-9440-540b85a94cef",
   "metadata": {},
   "outputs": [
    {
     "name": "stderr",
     "output_type": "stream",
     "text": [
      "<ipython-input-32-4f149e57de78>:3: SettingWithCopyWarning: \n",
      "A value is trying to be set on a copy of a slice from a DataFrame.\n",
      "Try using .loc[row_indexer,col_indexer] = value instead\n",
      "\n",
      "See the caveats in the documentation: https://pandas.pydata.org/pandas-docs/stable/user_guide/indexing.html#returning-a-view-versus-a-copy\n",
      "  train['responselength'] = qt1.transform(train[['responselength']])\n",
      "<ipython-input-32-4f149e57de78>:4: SettingWithCopyWarning: \n",
      "A value is trying to be set on a copy of a slice from a DataFrame.\n",
      "Try using .loc[row_indexer,col_indexer] = value instead\n",
      "\n",
      "See the caveats in the documentation: https://pandas.pydata.org/pandas-docs/stable/user_guide/indexing.html#returning-a-view-versus-a-copy\n",
      "  test['responselength'] = qt1.transform(test[['responselength']])\n"
     ]
    }
   ],
   "source": [
    "qt1=QuantileTransformer(n_quantiles=10, random_state=0)\n",
    "qt1=qt.fit(train[['responselength']])\n",
    "train['responselength'] = qt1.transform(train[['responselength']])\n",
    "test['responselength'] = qt1.transform(test[['responselength']])"
   ]
  },
  {
   "cell_type": "code",
   "execution_count": 33,
   "id": "727f8f60-2d74-4f8f-bff2-7c09880759dd",
   "metadata": {},
   "outputs": [
    {
     "data": {
      "text/plain": [
       "['qt1_data']"
      ]
     },
     "execution_count": 33,
     "metadata": {},
     "output_type": "execute_result"
    }
   ],
   "source": [
    "qt1_filename = \"qt1_data\"\n",
    "dump(qt1, qt1_filename)"
   ]
  },
  {
   "cell_type": "code",
   "execution_count": 34,
   "id": "5cb7ed73-38cd-4536-9b72-d63e1388951b",
   "metadata": {},
   "outputs": [
    {
     "name": "stderr",
     "output_type": "stream",
     "text": [
      "<ipython-input-34-cb98bdb83866>:2: SettingWithCopyWarning: \n",
      "A value is trying to be set on a copy of a slice from a DataFrame.\n",
      "Try using .loc[row_indexer,col_indexer] = value instead\n",
      "\n",
      "See the caveats in the documentation: https://pandas.pydata.org/pandas-docs/stable/user_guide/indexing.html#returning-a-view-versus-a-copy\n",
      "  train['ip_agent']=train.IP+':'+train.useragent\n",
      "<ipython-input-34-cb98bdb83866>:3: SettingWithCopyWarning: \n",
      "A value is trying to be set on a copy of a slice from a DataFrame.\n",
      "Try using .loc[row_indexer,col_indexer] = value instead\n",
      "\n",
      "See the caveats in the documentation: https://pandas.pydata.org/pandas-docs/stable/user_guide/indexing.html#returning-a-view-versus-a-copy\n",
      "  test['ip_agent']=test.IP+':'+test.useragent\n"
     ]
    }
   ],
   "source": [
    "#feature extraction \"ip_agent\"\n",
    "train['ip_agent']=train.IP+':'+train.useragent\n",
    "test['ip_agent']=test.IP+':'+test.useragent"
   ]
  },
  {
   "cell_type": "code",
   "execution_count": 250,
   "id": "c5037439-b294-4c55-9e29-3b911a748f4b",
   "metadata": {},
   "outputs": [
    {
     "data": {
      "text/html": [
       "<div>\n",
       "<style scoped>\n",
       "    .dataframe tbody tr th:only-of-type {\n",
       "        vertical-align: middle;\n",
       "    }\n",
       "\n",
       "    .dataframe tbody tr th {\n",
       "        vertical-align: top;\n",
       "    }\n",
       "\n",
       "    .dataframe thead th {\n",
       "        text-align: right;\n",
       "    }\n",
       "</style>\n",
       "<table border=\"1\" class=\"dataframe\">\n",
       "  <thead>\n",
       "    <tr style=\"text-align: right;\">\n",
       "      <th></th>\n",
       "      <th>IP</th>\n",
       "      <th>time</th>\n",
       "      <th>useragent</th>\n",
       "      <th>responsetime</th>\n",
       "      <th>responselength</th>\n",
       "      <th>hour</th>\n",
       "      <th>depth</th>\n",
       "      <th>robot</th>\n",
       "      <th>(Get,)</th>\n",
       "      <th>(Head,)</th>\n",
       "      <th>(Options,)</th>\n",
       "      <th>(Post,)</th>\n",
       "      <th>(Put,)</th>\n",
       "      <th>(1,)</th>\n",
       "      <th>(2,)</th>\n",
       "      <th>(3,)</th>\n",
       "      <th>(4,)</th>\n",
       "      <th>(5,)</th>\n",
       "      <th>ip_agent</th>\n",
       "    </tr>\n",
       "  </thead>\n",
       "  <tbody>\n",
       "    <tr>\n",
       "      <th>64</th>\n",
       "      <td>41.181.1.76</td>\n",
       "      <td>2021-05-12 05:06:02+04:30</td>\n",
       "      <td>Mozilla/5.0 (Linux; Android 9; G9) AppleWebKit...</td>\n",
       "      <td>0.388889</td>\n",
       "      <td>0.000000</td>\n",
       "      <td>0</td>\n",
       "      <td>0.0</td>\n",
       "      <td>0</td>\n",
       "      <td>1.0</td>\n",
       "      <td>0.0</td>\n",
       "      <td>0.0</td>\n",
       "      <td>0.0</td>\n",
       "      <td>0.0</td>\n",
       "      <td>0.0</td>\n",
       "      <td>0.0</td>\n",
       "      <td>1.0</td>\n",
       "      <td>0.0</td>\n",
       "      <td>0.0</td>\n",
       "      <td>41.181.1.76 :Mozilla/5.0 (Linux; Android 9; G9...</td>\n",
       "    </tr>\n",
       "    <tr>\n",
       "      <th>120</th>\n",
       "      <td>4.138.31.112</td>\n",
       "      <td>2021-05-12 05:06:03+04:30</td>\n",
       "      <td>Mozilla/5.0 (Linux; Android 6.0.1; SM-C5010) A...</td>\n",
       "      <td>0.500000</td>\n",
       "      <td>0.730255</td>\n",
       "      <td>0</td>\n",
       "      <td>0.0</td>\n",
       "      <td>0</td>\n",
       "      <td>1.0</td>\n",
       "      <td>0.0</td>\n",
       "      <td>0.0</td>\n",
       "      <td>0.0</td>\n",
       "      <td>0.0</td>\n",
       "      <td>0.0</td>\n",
       "      <td>1.0</td>\n",
       "      <td>0.0</td>\n",
       "      <td>0.0</td>\n",
       "      <td>0.0</td>\n",
       "      <td>4.138.31.112 :Mozilla/5.0 (Linux; Android 6.0....</td>\n",
       "    </tr>\n",
       "    <tr>\n",
       "      <th>154</th>\n",
       "      <td>35.117.114.180</td>\n",
       "      <td>2021-05-12 05:06:05+04:30</td>\n",
       "      <td>Mozilla/5.0 (Linux; Android 9; SM-A105F) Apple...</td>\n",
       "      <td>0.500000</td>\n",
       "      <td>0.334102</td>\n",
       "      <td>0</td>\n",
       "      <td>0.5</td>\n",
       "      <td>0</td>\n",
       "      <td>0.0</td>\n",
       "      <td>0.0</td>\n",
       "      <td>0.0</td>\n",
       "      <td>1.0</td>\n",
       "      <td>0.0</td>\n",
       "      <td>0.0</td>\n",
       "      <td>1.0</td>\n",
       "      <td>0.0</td>\n",
       "      <td>0.0</td>\n",
       "      <td>0.0</td>\n",
       "      <td>35.117.114.180 :Mozilla/5.0 (Linux; Android 9;...</td>\n",
       "    </tr>\n",
       "    <tr>\n",
       "      <th>159</th>\n",
       "      <td>35.110.222.153</td>\n",
       "      <td>2021-05-12 05:06:06+04:30</td>\n",
       "      <td>Mozilla/5.0 (Linux; Android 6.0.1; SAMSUNG SM-...</td>\n",
       "      <td>0.166667</td>\n",
       "      <td>0.797806</td>\n",
       "      <td>0</td>\n",
       "      <td>0.0</td>\n",
       "      <td>0</td>\n",
       "      <td>1.0</td>\n",
       "      <td>0.0</td>\n",
       "      <td>0.0</td>\n",
       "      <td>0.0</td>\n",
       "      <td>0.0</td>\n",
       "      <td>0.0</td>\n",
       "      <td>1.0</td>\n",
       "      <td>0.0</td>\n",
       "      <td>0.0</td>\n",
       "      <td>0.0</td>\n",
       "      <td>35.110.222.153 :Mozilla/5.0 (Linux; Android 6....</td>\n",
       "    </tr>\n",
       "    <tr>\n",
       "      <th>174</th>\n",
       "      <td>131.200.114.188</td>\n",
       "      <td>2021-05-12 05:06:06+04:30</td>\n",
       "      <td>Mozilla/5.0 (Linux; Android 8.1.0; SM-G610F) A...</td>\n",
       "      <td>0.166667</td>\n",
       "      <td>0.000000</td>\n",
       "      <td>0</td>\n",
       "      <td>0.0</td>\n",
       "      <td>0</td>\n",
       "      <td>1.0</td>\n",
       "      <td>0.0</td>\n",
       "      <td>0.0</td>\n",
       "      <td>0.0</td>\n",
       "      <td>0.0</td>\n",
       "      <td>0.0</td>\n",
       "      <td>0.0</td>\n",
       "      <td>1.0</td>\n",
       "      <td>0.0</td>\n",
       "      <td>0.0</td>\n",
       "      <td>131.200.114.188 :Mozilla/5.0 (Linux; Android 8...</td>\n",
       "    </tr>\n",
       "  </tbody>\n",
       "</table>\n",
       "</div>"
      ],
      "text/plain": [
       "                   IP                      time  \\\n",
       "64       41.181.1.76  2021-05-12 05:06:02+04:30   \n",
       "120     4.138.31.112  2021-05-12 05:06:03+04:30   \n",
       "154   35.117.114.180  2021-05-12 05:06:05+04:30   \n",
       "159   35.110.222.153  2021-05-12 05:06:06+04:30   \n",
       "174  131.200.114.188  2021-05-12 05:06:06+04:30   \n",
       "\n",
       "                                             useragent  responsetime  \\\n",
       "64   Mozilla/5.0 (Linux; Android 9; G9) AppleWebKit...      0.388889   \n",
       "120  Mozilla/5.0 (Linux; Android 6.0.1; SM-C5010) A...      0.500000   \n",
       "154  Mozilla/5.0 (Linux; Android 9; SM-A105F) Apple...      0.500000   \n",
       "159  Mozilla/5.0 (Linux; Android 6.0.1; SAMSUNG SM-...      0.166667   \n",
       "174  Mozilla/5.0 (Linux; Android 8.1.0; SM-G610F) A...      0.166667   \n",
       "\n",
       "     responselength  hour  depth  robot  (Get,)  (Head,)  (Options,)  (Post,)  \\\n",
       "64         0.000000     0    0.0      0     1.0      0.0         0.0      0.0   \n",
       "120        0.730255     0    0.0      0     1.0      0.0         0.0      0.0   \n",
       "154        0.334102     0    0.5      0     0.0      0.0         0.0      1.0   \n",
       "159        0.797806     0    0.0      0     1.0      0.0         0.0      0.0   \n",
       "174        0.000000     0    0.0      0     1.0      0.0         0.0      0.0   \n",
       "\n",
       "     (Put,)  (1,)  (2,)  (3,)  (4,)  (5,)  \\\n",
       "64      0.0   0.0   0.0   1.0   0.0   0.0   \n",
       "120     0.0   0.0   1.0   0.0   0.0   0.0   \n",
       "154     0.0   0.0   1.0   0.0   0.0   0.0   \n",
       "159     0.0   0.0   1.0   0.0   0.0   0.0   \n",
       "174     0.0   0.0   0.0   1.0   0.0   0.0   \n",
       "\n",
       "                                              ip_agent  \n",
       "64   41.181.1.76 :Mozilla/5.0 (Linux; Android 9; G9...  \n",
       "120  4.138.31.112 :Mozilla/5.0 (Linux; Android 6.0....  \n",
       "154  35.117.114.180 :Mozilla/5.0 (Linux; Android 9;...  \n",
       "159  35.110.222.153 :Mozilla/5.0 (Linux; Android 6....  \n",
       "174  131.200.114.188 :Mozilla/5.0 (Linux; Android 8...  "
      ]
     },
     "execution_count": 250,
     "metadata": {},
     "output_type": "execute_result"
    }
   ],
   "source": [
    "#create dataframe base on per ip_agent\n",
    "train_precision=train.groupby('ip_agent').tail(1)\n",
    "train_precision.head()"
   ]
  },
  {
   "cell_type": "code",
   "execution_count": 251,
   "id": "01ed459e-f899-49b6-b5d7-0eeee8a5419e",
   "metadata": {},
   "outputs": [
    {
     "data": {
      "text/html": [
       "<div>\n",
       "<style scoped>\n",
       "    .dataframe tbody tr th:only-of-type {\n",
       "        vertical-align: middle;\n",
       "    }\n",
       "\n",
       "    .dataframe tbody tr th {\n",
       "        vertical-align: top;\n",
       "    }\n",
       "\n",
       "    .dataframe thead th {\n",
       "        text-align: right;\n",
       "    }\n",
       "</style>\n",
       "<table border=\"1\" class=\"dataframe\">\n",
       "  <thead>\n",
       "    <tr style=\"text-align: right;\">\n",
       "      <th></th>\n",
       "      <th>IP</th>\n",
       "      <th>time</th>\n",
       "      <th>useragent</th>\n",
       "      <th>responsetime</th>\n",
       "      <th>responselength</th>\n",
       "      <th>hour</th>\n",
       "      <th>depth</th>\n",
       "      <th>robot</th>\n",
       "      <th>(Get,)</th>\n",
       "      <th>(Head,)</th>\n",
       "      <th>(Options,)</th>\n",
       "      <th>(Post,)</th>\n",
       "      <th>(Put,)</th>\n",
       "      <th>(1,)</th>\n",
       "      <th>(2,)</th>\n",
       "      <th>(3,)</th>\n",
       "      <th>(4,)</th>\n",
       "      <th>(5,)</th>\n",
       "      <th>ip_agent</th>\n",
       "    </tr>\n",
       "  </thead>\n",
       "  <tbody>\n",
       "    <tr>\n",
       "      <th>852120</th>\n",
       "      <td>35.41.235.122</td>\n",
       "      <td>2021-05-12 13:00:03+04:30</td>\n",
       "      <td>Mozilla/5.0 (Linux; Android 9; SM-G965F) Apple...</td>\n",
       "      <td>0.166667</td>\n",
       "      <td>0.000000</td>\n",
       "      <td>8</td>\n",
       "      <td>0.0</td>\n",
       "      <td>0</td>\n",
       "      <td>1.0</td>\n",
       "      <td>0.0</td>\n",
       "      <td>0.0</td>\n",
       "      <td>0.0</td>\n",
       "      <td>0.0</td>\n",
       "      <td>0.0</td>\n",
       "      <td>0.0</td>\n",
       "      <td>1.0</td>\n",
       "      <td>0.0</td>\n",
       "      <td>0.0</td>\n",
       "      <td>35.41.235.122 :Mozilla/5.0 (Linux; Android 9; ...</td>\n",
       "    </tr>\n",
       "    <tr>\n",
       "      <th>852271</th>\n",
       "      <td>127.171.149.195</td>\n",
       "      <td>2021-05-12 13:00:05+04:30</td>\n",
       "      <td>Mozilla/5.0 (Linux; Android 9; SM-A505F) Apple...</td>\n",
       "      <td>0.388889</td>\n",
       "      <td>0.713867</td>\n",
       "      <td>8</td>\n",
       "      <td>0.0</td>\n",
       "      <td>0</td>\n",
       "      <td>1.0</td>\n",
       "      <td>0.0</td>\n",
       "      <td>0.0</td>\n",
       "      <td>0.0</td>\n",
       "      <td>0.0</td>\n",
       "      <td>0.0</td>\n",
       "      <td>1.0</td>\n",
       "      <td>0.0</td>\n",
       "      <td>0.0</td>\n",
       "      <td>0.0</td>\n",
       "      <td>127.171.149.195 :Mozilla/5.0 (Linux; Android 9...</td>\n",
       "    </tr>\n",
       "    <tr>\n",
       "      <th>852299</th>\n",
       "      <td>148.254.115.7</td>\n",
       "      <td>2021-05-12 13:00:06+04:30</td>\n",
       "      <td>Mozilla/5.0 (Linux; Android 10; M2007J20CG) Ap...</td>\n",
       "      <td>0.166667</td>\n",
       "      <td>0.000000</td>\n",
       "      <td>8</td>\n",
       "      <td>0.0</td>\n",
       "      <td>0</td>\n",
       "      <td>1.0</td>\n",
       "      <td>0.0</td>\n",
       "      <td>0.0</td>\n",
       "      <td>0.0</td>\n",
       "      <td>0.0</td>\n",
       "      <td>0.0</td>\n",
       "      <td>0.0</td>\n",
       "      <td>1.0</td>\n",
       "      <td>0.0</td>\n",
       "      <td>0.0</td>\n",
       "      <td>148.254.115.7 :Mozilla/5.0 (Linux; Android 10;...</td>\n",
       "    </tr>\n",
       "    <tr>\n",
       "      <th>852323</th>\n",
       "      <td>14.233.136.41</td>\n",
       "      <td>2021-05-12 13:00:06+04:30</td>\n",
       "      <td>Mozilla/5.0 (Linux; Android 9; SM-A605F) Apple...</td>\n",
       "      <td>0.388889</td>\n",
       "      <td>0.000000</td>\n",
       "      <td>8</td>\n",
       "      <td>0.0</td>\n",
       "      <td>0</td>\n",
       "      <td>1.0</td>\n",
       "      <td>0.0</td>\n",
       "      <td>0.0</td>\n",
       "      <td>0.0</td>\n",
       "      <td>0.0</td>\n",
       "      <td>0.0</td>\n",
       "      <td>0.0</td>\n",
       "      <td>1.0</td>\n",
       "      <td>0.0</td>\n",
       "      <td>0.0</td>\n",
       "      <td>14.233.136.41 :Mozilla/5.0 (Linux; Android 9; ...</td>\n",
       "    </tr>\n",
       "    <tr>\n",
       "      <th>852336</th>\n",
       "      <td>128.201.236.133</td>\n",
       "      <td>2021-05-12 13:00:06+04:30</td>\n",
       "      <td>Mozilla/5.0 (Linux; Android 7.0; PRA-LA1) Appl...</td>\n",
       "      <td>0.166667</td>\n",
       "      <td>0.807042</td>\n",
       "      <td>8</td>\n",
       "      <td>0.0</td>\n",
       "      <td>0</td>\n",
       "      <td>1.0</td>\n",
       "      <td>0.0</td>\n",
       "      <td>0.0</td>\n",
       "      <td>0.0</td>\n",
       "      <td>0.0</td>\n",
       "      <td>0.0</td>\n",
       "      <td>1.0</td>\n",
       "      <td>0.0</td>\n",
       "      <td>0.0</td>\n",
       "      <td>0.0</td>\n",
       "      <td>128.201.236.133 :Mozilla/5.0 (Linux; Android 7...</td>\n",
       "    </tr>\n",
       "  </tbody>\n",
       "</table>\n",
       "</div>"
      ],
      "text/plain": [
       "                      IP                      time  \\\n",
       "852120    35.41.235.122  2021-05-12 13:00:03+04:30   \n",
       "852271  127.171.149.195  2021-05-12 13:00:05+04:30   \n",
       "852299    148.254.115.7  2021-05-12 13:00:06+04:30   \n",
       "852323    14.233.136.41  2021-05-12 13:00:06+04:30   \n",
       "852336  128.201.236.133  2021-05-12 13:00:06+04:30   \n",
       "\n",
       "                                                useragent  responsetime  \\\n",
       "852120  Mozilla/5.0 (Linux; Android 9; SM-G965F) Apple...      0.166667   \n",
       "852271  Mozilla/5.0 (Linux; Android 9; SM-A505F) Apple...      0.388889   \n",
       "852299  Mozilla/5.0 (Linux; Android 10; M2007J20CG) Ap...      0.166667   \n",
       "852323  Mozilla/5.0 (Linux; Android 9; SM-A605F) Apple...      0.388889   \n",
       "852336  Mozilla/5.0 (Linux; Android 7.0; PRA-LA1) Appl...      0.166667   \n",
       "\n",
       "        responselength  hour  depth  robot  (Get,)  (Head,)  (Options,)  \\\n",
       "852120        0.000000     8    0.0      0     1.0      0.0         0.0   \n",
       "852271        0.713867     8    0.0      0     1.0      0.0         0.0   \n",
       "852299        0.000000     8    0.0      0     1.0      0.0         0.0   \n",
       "852323        0.000000     8    0.0      0     1.0      0.0         0.0   \n",
       "852336        0.807042     8    0.0      0     1.0      0.0         0.0   \n",
       "\n",
       "        (Post,)  (Put,)  (1,)  (2,)  (3,)  (4,)  (5,)  \\\n",
       "852120      0.0     0.0   0.0   0.0   1.0   0.0   0.0   \n",
       "852271      0.0     0.0   0.0   1.0   0.0   0.0   0.0   \n",
       "852299      0.0     0.0   0.0   0.0   1.0   0.0   0.0   \n",
       "852323      0.0     0.0   0.0   0.0   1.0   0.0   0.0   \n",
       "852336      0.0     0.0   0.0   1.0   0.0   0.0   0.0   \n",
       "\n",
       "                                                 ip_agent  \n",
       "852120  35.41.235.122 :Mozilla/5.0 (Linux; Android 9; ...  \n",
       "852271  127.171.149.195 :Mozilla/5.0 (Linux; Android 9...  \n",
       "852299  148.254.115.7 :Mozilla/5.0 (Linux; Android 10;...  \n",
       "852323  14.233.136.41 :Mozilla/5.0 (Linux; Android 9; ...  \n",
       "852336  128.201.236.133 :Mozilla/5.0 (Linux; Android 7...  "
      ]
     },
     "execution_count": 251,
     "metadata": {},
     "output_type": "execute_result"
    }
   ],
   "source": [
    "test_precision=test.groupby('ip_agent').tail(1)\n",
    "test_precision.head()"
   ]
  },
  {
   "cell_type": "code",
   "execution_count": 37,
   "id": "78bc72fb-e3bb-4752-81a7-780aa66eb2bd",
   "metadata": {},
   "outputs": [
    {
     "name": "stderr",
     "output_type": "stream",
     "text": [
      "/Users/mohammad/miniforge3/lib/python3.9/site-packages/pandas/core/frame.py:4308: SettingWithCopyWarning: \n",
      "A value is trying to be set on a copy of a slice from a DataFrame\n",
      "\n",
      "See the caveats in the documentation: https://pandas.pydata.org/pandas-docs/stable/user_guide/indexing.html#returning-a-view-versus-a-copy\n",
      "  return super().drop(\n"
     ]
    },
    {
     "data": {
      "text/plain": [
       "Index([            'IP',           'time',      'useragent',   'responsetime',\n",
       "       'responselength',           'hour',          'depth',          'robot',\n",
       "               ('Get',),        ('Head',),     ('Options',),        ('Post',),\n",
       "               ('Put',),             (1,),             (2,),             (3,),\n",
       "                   (4,),             (5,),       'ip_agent'],\n",
       "      dtype='object')"
      ]
     },
     "execution_count": 37,
     "metadata": {},
     "output_type": "execute_result"
    }
   ],
   "source": [
    "#drop columns\n",
    "train.drop(columns =[\"statuscode\",\"method\",\"path\",\"request\",\"anomaly\"], inplace = True)\n",
    "test.drop(columns =[\"statuscode\",\"method\",\"path\",\"request\",\"anomaly\"], inplace = True)\n",
    "train.columns"
   ]
  },
  {
   "cell_type": "code",
   "execution_count": 38,
   "id": "5fb57603-513f-42f8-8a7a-16da8adf55fd",
   "metadata": {},
   "outputs": [],
   "source": [
    "df_train=train.set_index(['ip_agent','time']).sort_index()\n",
    "df_test=test.set_index(['ip_agent','time']).sort_index()"
   ]
  },
  {
   "cell_type": "code",
   "execution_count": 39,
   "id": "dc7aa7ff-3a47-4d71-b3b5-d844b3b449fb",
   "metadata": {},
   "outputs": [],
   "source": [
    "#drop columns\n",
    "df_train.drop(columns =[\"IP\",\"useragent\",\"hour\"], inplace = True)\n",
    "df_test.drop(columns =[\"IP\",\"useragent\",\"hour\"], inplace = True)"
   ]
  },
  {
   "cell_type": "code",
   "execution_count": 252,
   "id": "44b77cde-7479-4161-b724-7779f4bd9978",
   "metadata": {},
   "outputs": [
    {
     "data": {
      "text/html": [
       "<div>\n",
       "<style scoped>\n",
       "    .dataframe tbody tr th:only-of-type {\n",
       "        vertical-align: middle;\n",
       "    }\n",
       "\n",
       "    .dataframe tbody tr th {\n",
       "        vertical-align: top;\n",
       "    }\n",
       "\n",
       "    .dataframe thead th {\n",
       "        text-align: right;\n",
       "    }\n",
       "</style>\n",
       "<table border=\"1\" class=\"dataframe\">\n",
       "  <thead>\n",
       "    <tr style=\"text-align: right;\">\n",
       "      <th></th>\n",
       "      <th></th>\n",
       "      <th>responsetime</th>\n",
       "      <th>responselength</th>\n",
       "      <th>depth</th>\n",
       "      <th>robot</th>\n",
       "      <th>(Get,)</th>\n",
       "      <th>(Head,)</th>\n",
       "      <th>(Options,)</th>\n",
       "      <th>(Post,)</th>\n",
       "      <th>(Put,)</th>\n",
       "      <th>(1,)</th>\n",
       "      <th>(2,)</th>\n",
       "      <th>(3,)</th>\n",
       "      <th>(4,)</th>\n",
       "      <th>(5,)</th>\n",
       "    </tr>\n",
       "    <tr>\n",
       "      <th>ip_agent</th>\n",
       "      <th>time</th>\n",
       "      <th></th>\n",
       "      <th></th>\n",
       "      <th></th>\n",
       "      <th></th>\n",
       "      <th></th>\n",
       "      <th></th>\n",
       "      <th></th>\n",
       "      <th></th>\n",
       "      <th></th>\n",
       "      <th></th>\n",
       "      <th></th>\n",
       "      <th></th>\n",
       "      <th></th>\n",
       "      <th></th>\n",
       "    </tr>\n",
       "  </thead>\n",
       "  <tbody>\n",
       "    <tr>\n",
       "      <th rowspan=\"5\" valign=\"top\">10.92.2.8 :Mozilla/5.0 (Linux; Android 6.0.1; SAMSUNG SM-A500H) AppleWebKit/537.36 (KHTML, like Gecko) SamsungBrowser/14.0 Chrome/87.0.4280.141 Mobile Safari/537.36</th>\n",
       "      <th>2021-05-12 09:45:58+04:30</th>\n",
       "      <td>0.888890</td>\n",
       "      <td>0.888900</td>\n",
       "      <td>0.5</td>\n",
       "      <td>0</td>\n",
       "      <td>1.0</td>\n",
       "      <td>0.0</td>\n",
       "      <td>0.0</td>\n",
       "      <td>0.0</td>\n",
       "      <td>0.0</td>\n",
       "      <td>0.0</td>\n",
       "      <td>1.0</td>\n",
       "      <td>0.0</td>\n",
       "      <td>0.0</td>\n",
       "      <td>0.0</td>\n",
       "    </tr>\n",
       "    <tr>\n",
       "      <th>2021-05-12 09:45:59+04:30</th>\n",
       "      <td>0.166667</td>\n",
       "      <td>0.496599</td>\n",
       "      <td>0.0</td>\n",
       "      <td>0</td>\n",
       "      <td>1.0</td>\n",
       "      <td>0.0</td>\n",
       "      <td>0.0</td>\n",
       "      <td>0.0</td>\n",
       "      <td>0.0</td>\n",
       "      <td>0.0</td>\n",
       "      <td>1.0</td>\n",
       "      <td>0.0</td>\n",
       "      <td>0.0</td>\n",
       "      <td>0.0</td>\n",
       "    </tr>\n",
       "    <tr>\n",
       "      <th>2021-05-12 09:45:59+04:30</th>\n",
       "      <td>0.388889</td>\n",
       "      <td>0.761694</td>\n",
       "      <td>0.0</td>\n",
       "      <td>0</td>\n",
       "      <td>1.0</td>\n",
       "      <td>0.0</td>\n",
       "      <td>0.0</td>\n",
       "      <td>0.0</td>\n",
       "      <td>0.0</td>\n",
       "      <td>0.0</td>\n",
       "      <td>1.0</td>\n",
       "      <td>0.0</td>\n",
       "      <td>0.0</td>\n",
       "      <td>0.0</td>\n",
       "    </tr>\n",
       "    <tr>\n",
       "      <th>2021-05-12 09:45:59+04:30</th>\n",
       "      <td>0.500000</td>\n",
       "      <td>0.889126</td>\n",
       "      <td>0.0</td>\n",
       "      <td>0</td>\n",
       "      <td>1.0</td>\n",
       "      <td>0.0</td>\n",
       "      <td>0.0</td>\n",
       "      <td>0.0</td>\n",
       "      <td>0.0</td>\n",
       "      <td>0.0</td>\n",
       "      <td>1.0</td>\n",
       "      <td>0.0</td>\n",
       "      <td>0.0</td>\n",
       "      <td>0.0</td>\n",
       "    </tr>\n",
       "    <tr>\n",
       "      <th>2021-05-12 09:45:59+04:30</th>\n",
       "      <td>0.833333</td>\n",
       "      <td>0.591259</td>\n",
       "      <td>0.5</td>\n",
       "      <td>0</td>\n",
       "      <td>1.0</td>\n",
       "      <td>0.0</td>\n",
       "      <td>0.0</td>\n",
       "      <td>0.0</td>\n",
       "      <td>0.0</td>\n",
       "      <td>0.0</td>\n",
       "      <td>1.0</td>\n",
       "      <td>0.0</td>\n",
       "      <td>0.0</td>\n",
       "      <td>0.0</td>\n",
       "    </tr>\n",
       "  </tbody>\n",
       "</table>\n",
       "</div>"
      ],
      "text/plain": [
       "                                                                              responsetime  \\\n",
       "ip_agent                                           time                                      \n",
       "10.92.2.8 :Mozilla/5.0 (Linux; Android 6.0.1; S... 2021-05-12 09:45:58+04:30      0.888890   \n",
       "                                                   2021-05-12 09:45:59+04:30      0.166667   \n",
       "                                                   2021-05-12 09:45:59+04:30      0.388889   \n",
       "                                                   2021-05-12 09:45:59+04:30      0.500000   \n",
       "                                                   2021-05-12 09:45:59+04:30      0.833333   \n",
       "\n",
       "                                                                              responselength  \\\n",
       "ip_agent                                           time                                        \n",
       "10.92.2.8 :Mozilla/5.0 (Linux; Android 6.0.1; S... 2021-05-12 09:45:58+04:30        0.888900   \n",
       "                                                   2021-05-12 09:45:59+04:30        0.496599   \n",
       "                                                   2021-05-12 09:45:59+04:30        0.761694   \n",
       "                                                   2021-05-12 09:45:59+04:30        0.889126   \n",
       "                                                   2021-05-12 09:45:59+04:30        0.591259   \n",
       "\n",
       "                                                                              depth  \\\n",
       "ip_agent                                           time                               \n",
       "10.92.2.8 :Mozilla/5.0 (Linux; Android 6.0.1; S... 2021-05-12 09:45:58+04:30    0.5   \n",
       "                                                   2021-05-12 09:45:59+04:30    0.0   \n",
       "                                                   2021-05-12 09:45:59+04:30    0.0   \n",
       "                                                   2021-05-12 09:45:59+04:30    0.0   \n",
       "                                                   2021-05-12 09:45:59+04:30    0.5   \n",
       "\n",
       "                                                                              robot  \\\n",
       "ip_agent                                           time                               \n",
       "10.92.2.8 :Mozilla/5.0 (Linux; Android 6.0.1; S... 2021-05-12 09:45:58+04:30      0   \n",
       "                                                   2021-05-12 09:45:59+04:30      0   \n",
       "                                                   2021-05-12 09:45:59+04:30      0   \n",
       "                                                   2021-05-12 09:45:59+04:30      0   \n",
       "                                                   2021-05-12 09:45:59+04:30      0   \n",
       "\n",
       "                                                                              (Get,)  \\\n",
       "ip_agent                                           time                                \n",
       "10.92.2.8 :Mozilla/5.0 (Linux; Android 6.0.1; S... 2021-05-12 09:45:58+04:30     1.0   \n",
       "                                                   2021-05-12 09:45:59+04:30     1.0   \n",
       "                                                   2021-05-12 09:45:59+04:30     1.0   \n",
       "                                                   2021-05-12 09:45:59+04:30     1.0   \n",
       "                                                   2021-05-12 09:45:59+04:30     1.0   \n",
       "\n",
       "                                                                              (Head,)  \\\n",
       "ip_agent                                           time                                 \n",
       "10.92.2.8 :Mozilla/5.0 (Linux; Android 6.0.1; S... 2021-05-12 09:45:58+04:30      0.0   \n",
       "                                                   2021-05-12 09:45:59+04:30      0.0   \n",
       "                                                   2021-05-12 09:45:59+04:30      0.0   \n",
       "                                                   2021-05-12 09:45:59+04:30      0.0   \n",
       "                                                   2021-05-12 09:45:59+04:30      0.0   \n",
       "\n",
       "                                                                              (Options,)  \\\n",
       "ip_agent                                           time                                    \n",
       "10.92.2.8 :Mozilla/5.0 (Linux; Android 6.0.1; S... 2021-05-12 09:45:58+04:30         0.0   \n",
       "                                                   2021-05-12 09:45:59+04:30         0.0   \n",
       "                                                   2021-05-12 09:45:59+04:30         0.0   \n",
       "                                                   2021-05-12 09:45:59+04:30         0.0   \n",
       "                                                   2021-05-12 09:45:59+04:30         0.0   \n",
       "\n",
       "                                                                              (Post,)  \\\n",
       "ip_agent                                           time                                 \n",
       "10.92.2.8 :Mozilla/5.0 (Linux; Android 6.0.1; S... 2021-05-12 09:45:58+04:30      0.0   \n",
       "                                                   2021-05-12 09:45:59+04:30      0.0   \n",
       "                                                   2021-05-12 09:45:59+04:30      0.0   \n",
       "                                                   2021-05-12 09:45:59+04:30      0.0   \n",
       "                                                   2021-05-12 09:45:59+04:30      0.0   \n",
       "\n",
       "                                                                              (Put,)  \\\n",
       "ip_agent                                           time                                \n",
       "10.92.2.8 :Mozilla/5.0 (Linux; Android 6.0.1; S... 2021-05-12 09:45:58+04:30     0.0   \n",
       "                                                   2021-05-12 09:45:59+04:30     0.0   \n",
       "                                                   2021-05-12 09:45:59+04:30     0.0   \n",
       "                                                   2021-05-12 09:45:59+04:30     0.0   \n",
       "                                                   2021-05-12 09:45:59+04:30     0.0   \n",
       "\n",
       "                                                                              (1,)  \\\n",
       "ip_agent                                           time                              \n",
       "10.92.2.8 :Mozilla/5.0 (Linux; Android 6.0.1; S... 2021-05-12 09:45:58+04:30   0.0   \n",
       "                                                   2021-05-12 09:45:59+04:30   0.0   \n",
       "                                                   2021-05-12 09:45:59+04:30   0.0   \n",
       "                                                   2021-05-12 09:45:59+04:30   0.0   \n",
       "                                                   2021-05-12 09:45:59+04:30   0.0   \n",
       "\n",
       "                                                                              (2,)  \\\n",
       "ip_agent                                           time                              \n",
       "10.92.2.8 :Mozilla/5.0 (Linux; Android 6.0.1; S... 2021-05-12 09:45:58+04:30   1.0   \n",
       "                                                   2021-05-12 09:45:59+04:30   1.0   \n",
       "                                                   2021-05-12 09:45:59+04:30   1.0   \n",
       "                                                   2021-05-12 09:45:59+04:30   1.0   \n",
       "                                                   2021-05-12 09:45:59+04:30   1.0   \n",
       "\n",
       "                                                                              (3,)  \\\n",
       "ip_agent                                           time                              \n",
       "10.92.2.8 :Mozilla/5.0 (Linux; Android 6.0.1; S... 2021-05-12 09:45:58+04:30   0.0   \n",
       "                                                   2021-05-12 09:45:59+04:30   0.0   \n",
       "                                                   2021-05-12 09:45:59+04:30   0.0   \n",
       "                                                   2021-05-12 09:45:59+04:30   0.0   \n",
       "                                                   2021-05-12 09:45:59+04:30   0.0   \n",
       "\n",
       "                                                                              (4,)  \\\n",
       "ip_agent                                           time                              \n",
       "10.92.2.8 :Mozilla/5.0 (Linux; Android 6.0.1; S... 2021-05-12 09:45:58+04:30   0.0   \n",
       "                                                   2021-05-12 09:45:59+04:30   0.0   \n",
       "                                                   2021-05-12 09:45:59+04:30   0.0   \n",
       "                                                   2021-05-12 09:45:59+04:30   0.0   \n",
       "                                                   2021-05-12 09:45:59+04:30   0.0   \n",
       "\n",
       "                                                                              (5,)  \n",
       "ip_agent                                           time                             \n",
       "10.92.2.8 :Mozilla/5.0 (Linux; Android 6.0.1; S... 2021-05-12 09:45:58+04:30   0.0  \n",
       "                                                   2021-05-12 09:45:59+04:30   0.0  \n",
       "                                                   2021-05-12 09:45:59+04:30   0.0  \n",
       "                                                   2021-05-12 09:45:59+04:30   0.0  \n",
       "                                                   2021-05-12 09:45:59+04:30   0.0  "
      ]
     },
     "execution_count": 252,
     "metadata": {},
     "output_type": "execute_result"
    }
   ],
   "source": [
    "df_train.head()"
   ]
  },
  {
   "cell_type": "code",
   "execution_count": 41,
   "id": "8eb770c3-b730-4ce9-ad1c-c74f4dacf2f8",
   "metadata": {},
   "outputs": [],
   "source": [
    "#reshape dataframe to prepare for LSTM\n",
    "ds_np_train = df_train.groupby(level=0).apply(lambda x:x.values).values\n",
    "ds_np_train = [x[-10:][np.newaxis,:,:] for x in ds_np_train]\n",
    "ds_np_train = np.concatenate(ds_np_train,axis=0)\n",
    "\n",
    "ds_np_test = df_test.groupby(level=0).apply(lambda x:x.values).values\n",
    "ds_np_test = [x[-10:][np.newaxis,:,:] for x in ds_np_test]\n",
    "ds_np_test = np.concatenate(ds_np_test,axis=0)"
   ]
  },
  {
   "cell_type": "code",
   "execution_count": 42,
   "id": "d85cf581-c539-4833-8d8c-4bbaf96dbd8e",
   "metadata": {},
   "outputs": [
    {
     "data": {
      "text/plain": [
       "((17174, 10, 14), (9047, 10, 14))"
      ]
     },
     "execution_count": 42,
     "metadata": {},
     "output_type": "execute_result"
    }
   ],
   "source": [
    "ds_np_train.shape , ds_np_test.shape"
   ]
  },
  {
   "cell_type": "code",
   "execution_count": 43,
   "id": "5c19983c-4681-43bb-b8f5-faf4beec36d3",
   "metadata": {},
   "outputs": [],
   "source": [
    "import os\n",
    "import pandas as pd\n",
    "import numpy as np\n",
    "from sklearn.preprocessing import MinMaxScaler\n",
    "#from sklearn.externals import joblib\n",
    "import seaborn as sns\n",
    "sns.set(color_codes=True)\n",
    "import matplotlib.pyplot as plt\n",
    "%matplotlib inline\n",
    "\n",
    "from numpy.random import seed\n",
    "#from tensorflow import set_random_seed\n",
    "import tensorflow as tf\n",
    "#tf.logging.set_verbosity(tf.logging.ERROR)\n",
    "\n",
    "\n",
    "from keras.layers import Input, Dropout, Dense, LSTM, TimeDistributed, RepeatVector\n",
    "from keras.models import Model\n",
    "from keras import regularizers"
   ]
  },
  {
   "cell_type": "code",
   "execution_count": 167,
   "id": "ae662b50-1253-4fdc-9685-f9d65fc87e5a",
   "metadata": {},
   "outputs": [],
   "source": [
    "# define the autoencoder network model\n",
    "def autoencoder_model(X):\n",
    "    inputs = Input(shape=(X.shape[1], X.shape[2]))\n",
    "    L1 = LSTM(32, input_shape=(ds_np_train.shape[1], ds_np_train.shape[2]),return_sequences=True, kernel_regularizer=regularizers.l2(0.00))(inputs)\n",
    "    L2 = LSTM(16, return_sequences=False)(L1)\n",
    "    L3 = RepeatVector(X.shape[1])(L2)\n",
    "    L4 = LSTM(16, activation='relu', return_sequences=True)(L3)\n",
    "    L5 = LSTM(32, activation='relu', return_sequences=True)(L4)\n",
    "    output = TimeDistributed(Dense(X.shape[2]))(L5)    \n",
    "    model = Model(inputs=inputs, outputs=output)\n",
    "    return model"
   ]
  },
  {
   "cell_type": "code",
   "execution_count": 168,
   "id": "b2f7374e-a657-49c1-9ecc-053eead60547",
   "metadata": {},
   "outputs": [
    {
     "name": "stdout",
     "output_type": "stream",
     "text": [
      "WARNING:tensorflow:Layer lstm_26 will not use cuDNN kernels since it doesn't meet the criteria. It will use a generic GPU kernel as fallback when running on GPU.\n",
      "WARNING:tensorflow:Layer lstm_27 will not use cuDNN kernels since it doesn't meet the criteria. It will use a generic GPU kernel as fallback when running on GPU.\n",
      "Model: \"model_6\"\n",
      "_________________________________________________________________\n",
      "Layer (type)                 Output Shape              Param #   \n",
      "=================================================================\n",
      "input_7 (InputLayer)         [(None, 10, 14)]          0         \n",
      "_________________________________________________________________\n",
      "lstm_24 (LSTM)               (None, 10, 32)            6016      \n",
      "_________________________________________________________________\n",
      "lstm_25 (LSTM)               (None, 16)                3136      \n",
      "_________________________________________________________________\n",
      "repeat_vector_6 (RepeatVecto (None, 10, 16)            0         \n",
      "_________________________________________________________________\n",
      "lstm_26 (LSTM)               (None, 10, 16)            2112      \n",
      "_________________________________________________________________\n",
      "lstm_27 (LSTM)               (None, 10, 32)            6272      \n",
      "_________________________________________________________________\n",
      "time_distributed_6 (TimeDist (None, 10, 14)            462       \n",
      "=================================================================\n",
      "Total params: 17,998\n",
      "Trainable params: 17,998\n",
      "Non-trainable params: 0\n",
      "_________________________________________________________________\n"
     ]
    }
   ],
   "source": [
    "# create the autoencoder model\n",
    "model = autoencoder_model(ds_np_train)\n",
    "model.compile(optimizer='adam', loss='mae')\n",
    "model.summary()"
   ]
  },
  {
   "cell_type": "code",
   "execution_count": 169,
   "id": "247f1cf4-aca5-42f1-acaf-00587bafe600",
   "metadata": {},
   "outputs": [
    {
     "name": "stdout",
     "output_type": "stream",
     "text": [
      "Epoch 1/50\n",
      "255/255 [==============================] - 68s 254ms/step - loss: 0.1703 - val_loss: 0.0755\n",
      "Epoch 2/50\n",
      "255/255 [==============================] - 64s 250ms/step - loss: 0.0679 - val_loss: 0.0680\n",
      "Epoch 3/50\n",
      "255/255 [==============================] - 64s 250ms/step - loss: 0.0633 - val_loss: 0.0671\n",
      "Epoch 4/50\n",
      "255/255 [==============================] - 63s 247ms/step - loss: 0.0629 - val_loss: 0.0663\n",
      "Epoch 5/50\n",
      "255/255 [==============================] - 63s 246ms/step - loss: 0.0629 - val_loss: 0.0662\n",
      "Epoch 6/50\n",
      "255/255 [==============================] - 63s 247ms/step - loss: 0.0621 - val_loss: 0.0658\n",
      "Epoch 7/50\n",
      "255/255 [==============================] - 63s 246ms/step - loss: 0.0600 - val_loss: 0.0567\n",
      "Epoch 8/50\n",
      "255/255 [==============================] - 63s 247ms/step - loss: 0.0524 - val_loss: 0.0555\n",
      "Epoch 9/50\n",
      "255/255 [==============================] - 63s 247ms/step - loss: 0.0517 - val_loss: 0.0547\n",
      "Epoch 10/50\n",
      "255/255 [==============================] - 63s 246ms/step - loss: 0.0507 - val_loss: 0.0539\n",
      "Epoch 11/50\n",
      "255/255 [==============================] - 63s 246ms/step - loss: 0.0503 - val_loss: 0.0535\n",
      "Epoch 12/50\n",
      "255/255 [==============================] - 63s 247ms/step - loss: 0.0500 - val_loss: 0.0530\n",
      "Epoch 13/50\n",
      "255/255 [==============================] - 63s 246ms/step - loss: 0.0493 - val_loss: 0.0527\n",
      "Epoch 14/50\n",
      "255/255 [==============================] - 63s 246ms/step - loss: 0.0497 - val_loss: 0.0521\n",
      "Epoch 15/50\n",
      "255/255 [==============================] - 63s 247ms/step - loss: 0.0487 - val_loss: 0.0518\n",
      "Epoch 16/50\n",
      "255/255 [==============================] - 63s 247ms/step - loss: 0.0490 - val_loss: 0.0513\n",
      "Epoch 17/50\n",
      "255/255 [==============================] - 63s 247ms/step - loss: 0.0489 - val_loss: 0.0517\n",
      "Epoch 18/50\n",
      "255/255 [==============================] - 63s 246ms/step - loss: 0.0484 - val_loss: 0.0508\n",
      "Epoch 19/50\n",
      "255/255 [==============================] - 63s 247ms/step - loss: 0.0480 - val_loss: 0.0507\n",
      "Epoch 20/50\n",
      "255/255 [==============================] - 63s 246ms/step - loss: 0.0473 - val_loss: 0.0512\n",
      "Epoch 21/50\n",
      "255/255 [==============================] - 63s 246ms/step - loss: 0.0479 - val_loss: 0.0505\n",
      "Epoch 22/50\n",
      "255/255 [==============================] - 63s 247ms/step - loss: 0.0469 - val_loss: 0.0500\n",
      "Epoch 23/50\n",
      "255/255 [==============================] - 63s 247ms/step - loss: 0.0473 - val_loss: 0.0505\n",
      "Epoch 24/50\n",
      "255/255 [==============================] - 63s 247ms/step - loss: 0.0466 - val_loss: 0.0500\n",
      "Epoch 25/50\n",
      "255/255 [==============================] - 63s 247ms/step - loss: 0.0469 - val_loss: 0.0495\n",
      "Epoch 26/50\n",
      "255/255 [==============================] - 63s 247ms/step - loss: 0.0462 - val_loss: 0.0496\n",
      "Epoch 27/50\n",
      "255/255 [==============================] - 63s 247ms/step - loss: 0.0466 - val_loss: 0.0511\n",
      "Epoch 28/50\n",
      "255/255 [==============================] - 63s 248ms/step - loss: 0.0470 - val_loss: 0.0495\n",
      "Epoch 29/50\n",
      "255/255 [==============================] - 64s 251ms/step - loss: 0.0456 - val_loss: 0.0487\n",
      "Epoch 30/50\n",
      "255/255 [==============================] - 64s 250ms/step - loss: 0.0454 - val_loss: 0.0486\n",
      "Epoch 31/50\n",
      "255/255 [==============================] - 63s 247ms/step - loss: 0.0452 - val_loss: 0.0479\n",
      "Epoch 32/50\n",
      "255/255 [==============================] - 63s 248ms/step - loss: 0.0445 - val_loss: 0.0472\n",
      "Epoch 33/50\n",
      "255/255 [==============================] - 63s 247ms/step - loss: 0.0440 - val_loss: 0.0477\n",
      "Epoch 34/50\n",
      "255/255 [==============================] - 63s 248ms/step - loss: 0.0443 - val_loss: 0.0466\n",
      "Epoch 35/50\n",
      "255/255 [==============================] - 63s 247ms/step - loss: 0.0435 - val_loss: 0.0463\n",
      "Epoch 36/50\n",
      "255/255 [==============================] - 63s 248ms/step - loss: 0.0430 - val_loss: 0.0460\n",
      "Epoch 37/50\n",
      "255/255 [==============================] - 63s 247ms/step - loss: 0.0432 - val_loss: 0.0464\n",
      "Epoch 38/50\n",
      "255/255 [==============================] - 63s 247ms/step - loss: 0.0428 - val_loss: 0.0452\n",
      "Epoch 39/50\n",
      "255/255 [==============================] - 63s 247ms/step - loss: 0.0426 - val_loss: 0.0452\n",
      "Epoch 40/50\n",
      "255/255 [==============================] - 63s 248ms/step - loss: 0.0420 - val_loss: 0.0449\n",
      "Epoch 41/50\n",
      "255/255 [==============================] - 64s 250ms/step - loss: 0.0424 - val_loss: 0.0448\n",
      "Epoch 42/50\n",
      "255/255 [==============================] - 65s 255ms/step - loss: 0.0416 - val_loss: 0.0443\n",
      "Epoch 43/50\n",
      "255/255 [==============================] - 65s 254ms/step - loss: 0.0419 - val_loss: 0.0443\n",
      "Epoch 44/50\n",
      "255/255 [==============================] - 63s 249ms/step - loss: 0.0413 - val_loss: 0.0448\n",
      "Epoch 45/50\n",
      "255/255 [==============================] - 64s 252ms/step - loss: 0.0416 - val_loss: 0.0440\n",
      "Epoch 46/50\n",
      "255/255 [==============================] - 63s 248ms/step - loss: 0.0413 - val_loss: 0.0437\n",
      "Epoch 47/50\n",
      "255/255 [==============================] - 63s 247ms/step - loss: 0.0407 - val_loss: 0.0441\n",
      "Epoch 48/50\n",
      "255/255 [==============================] - 63s 247ms/step - loss: 0.0407 - val_loss: 0.0432\n",
      "Epoch 49/50\n",
      "255/255 [==============================] - 63s 247ms/step - loss: 0.0401 - val_loss: 0.0433\n",
      "Epoch 50/50\n",
      "255/255 [==============================] - 63s 247ms/step - loss: 0.0406 - val_loss: 0.0436\n"
     ]
    }
   ],
   "source": [
    "#fit model\n",
    "nb_epochs = 50\n",
    "batch_size =64\n",
    "history = model.fit(ds_np_train, ds_np_train, epochs=nb_epochs, batch_size=batch_size,\n",
    "                    validation_split=0.05).history"
   ]
  },
  {
   "cell_type": "code",
   "execution_count": 170,
   "id": "4d9acc4b-8c21-4dbf-a4fa-f50e99b729d7",
   "metadata": {},
   "outputs": [
    {
     "data": {
      "image/png": "[encoded data removed]",
      "text/plain": [
       "<Figure size 1120x480 with 1 Axes>"
      ]
     },
     "metadata": {
      "needs_background": "light"
     },
     "output_type": "display_data"
    }
   ],
   "source": [
    "# plot the training losses\n",
    "fig, ax = plt.subplots(figsize=(14, 6), dpi=80)\n",
    "ax.plot(history['loss'], 'b', label='Train', linewidth=2)\n",
    "ax.plot(history['val_loss'], 'r', label='Validation', linewidth=2)\n",
    "ax.set_title('Model loss', fontsize=16)\n",
    "ax.set_ylabel('Loss (mae)')\n",
    "ax.set_xlabel('Epoch')\n",
    "ax.legend(loc='upper right')\n",
    "plt.show()"
   ]
  },
  {
   "cell_type": "code",
   "execution_count": 171,
   "id": "00ff2c5d-10eb-401b-bc0e-052ae49f6a3b",
   "metadata": {},
   "outputs": [
    {
     "data": {
      "image/png": "[encoded data removed]",
      "text/plain": [
       "<Figure size 432x288 with 1 Axes>"
      ]
     },
     "metadata": {
      "needs_background": "light"
     },
     "output_type": "display_data"
    }
   ],
   "source": [
    "plt.plot(history['loss'], label='Training loss')\n",
    "plt.plot(history['val_loss'], label='Validation loss')\n",
    "plt.legend();"
   ]
  },
  {
   "cell_type": "code",
   "execution_count": 172,
   "id": "e535b333-26dd-4173-8eea-b891a3f32e4a",
   "metadata": {},
   "outputs": [
    {
     "name": "stdout",
     "output_type": "stream",
     "text": [
      "537/537 [==============================] - 17s 31ms/step - loss: 0.0410\n"
     ]
    },
    {
     "data": {
      "text/plain": [
       "0.04101691022515297"
      ]
     },
     "execution_count": 172,
     "metadata": {},
     "output_type": "execute_result"
    }
   ],
   "source": [
    "model.evaluate(ds_np_train, ds_np_train)"
   ]
  },
  {
   "cell_type": "code",
   "execution_count": 173,
   "id": "c1e5ddd1-1bc1-4d13-aa4b-a4b6bd25408a",
   "metadata": {},
   "outputs": [
    {
     "name": "stdout",
     "output_type": "stream",
     "text": [
      "283/283 [==============================] - 9s 30ms/step - loss: 0.0411\n"
     ]
    },
    {
     "data": {
      "text/plain": [
       "0.04107697680592537"
      ]
     },
     "execution_count": 173,
     "metadata": {},
     "output_type": "execute_result"
    }
   ],
   "source": [
    "model.evaluate(ds_np_test, ds_np_test)"
   ]
  },
  {
   "cell_type": "code",
   "execution_count": 174,
   "id": "e2de0d35-3191-4935-90e5-95a0f3bc44c5",
   "metadata": {},
   "outputs": [
    {
     "name": "stdout",
     "output_type": "stream",
     "text": [
      "Reconstruction error threshold: 0.2169879423095829\n"
     ]
    },
    {
     "data": {
      "image/png": "[encoded data removed]",
      "text/plain": [
       "<Figure size 432x288 with 1 Axes>"
      ]
     },
     "metadata": {
      "needs_background": "light"
     },
     "output_type": "display_data"
    }
   ],
   "source": [
    "#train_mae_loss plot\n",
    "ds_np_train_pred = model.predict(ds_np_train, verbose=0)\n",
    "train_mae_loss = np.mean(np.abs(ds_np_train_pred - ds_np_train), axis=(1,2))\n",
    "\n",
    "plt.hist(train_mae_loss, bins=50)\n",
    "plt.xlabel('Train MAE loss')\n",
    "plt.ylabel('Number of Samples');\n",
    "\n",
    "threshold = np.max(train_mae_loss)\n",
    "print(f'Reconstruction error threshold: {threshold}')"
   ]
  },
  {
   "cell_type": "code",
   "execution_count": 175,
   "id": "ab314ae1-bead-460d-ad09-99c606b4abca",
   "metadata": {},
   "outputs": [
    {
     "data": {
      "image/png": "[encoded data removed]",
      "text/plain": [
       "<Figure size 432x288 with 1 Axes>"
      ]
     },
     "metadata": {
      "needs_background": "light"
     },
     "output_type": "display_data"
    }
   ],
   "source": [
    "#test_mae_loss plot\n",
    "ds_np_test_pred = model.predict(ds_np_test, verbose=0)\n",
    "test_mae_loss = np.mean(np.abs(ds_np_test_pred-ds_np_test), axis=(1,2))\n",
    "\n",
    "plt.hist(test_mae_loss, bins=50)\n",
    "plt.xlabel('Test MAE loss')\n",
    "plt.ylabel('Number of samples');"
   ]
  },
  {
   "cell_type": "code",
   "execution_count": 176,
   "id": "9a6514da-a501-407c-a380-b5921b6ba056",
   "metadata": {},
   "outputs": [
    {
     "data": {
      "text/plain": [
       "0.2169879423095829"
      ]
     },
     "execution_count": 176,
     "metadata": {},
     "output_type": "execute_result"
    }
   ],
   "source": [
    "threshold"
   ]
  },
  {
   "cell_type": "code",
   "execution_count": 220,
   "id": "098c58d6-dd1a-4bb8-a450-02b3784078a8",
   "metadata": {},
   "outputs": [
    {
     "data": {
      "text/plain": [
       "(array([False,  True]), array([17148,    26]))"
      ]
     },
     "execution_count": 220,
     "metadata": {},
     "output_type": "execute_result"
    }
   ],
   "source": [
    "#detect train set anomaly \n",
    "anomalies1 = train_mae_loss > 0.180\n",
    "anomalies1.shape\n",
    "unique_elements, counts_elements = np.unique(anomalies1, return_counts=True)\n",
    "unique_elements, counts_elements"
   ]
  },
  {
   "cell_type": "code",
   "execution_count": 221,
   "id": "9764378f-a6cc-40e9-b217-5bcb45b497ca",
   "metadata": {},
   "outputs": [
    {
     "data": {
      "text/plain": [
       "(array([   92,   226,  2030,  2191,  2480,  3219,  3459,  3742,  3979,\n",
       "         4325,  5327,  5440,  6122,  6299,  7536,  7588,  8059,  8102,\n",
       "         8542,  9824,  9995, 11548, 11920, 14079, 14324, 14952]),)"
      ]
     },
     "execution_count": 221,
     "metadata": {},
     "output_type": "execute_result"
    }
   ],
   "source": [
    "result1 = np.where(anomalies1)\n",
    "result1"
   ]
  },
  {
   "cell_type": "code",
   "execution_count": null,
   "id": "2391f6f3-f79c-4570-9c1f-4ad61b5610a9",
   "metadata": {},
   "outputs": [],
   "source": [
    "#print train set anomaly request\n",
    "target_index=[None]*len(result1[0])\n",
    "for c_,i in enumerate(result1[0]):\n",
    "    print(df_train.index.levels[0][i])\n",
    "    target_index[c_] = df_train.index.levels[0][i]\n",
    "target_index = np.unique(target_index)"
   ]
  },
  {
   "cell_type": "code",
   "execution_count": 228,
   "id": "f552d54e-ab2c-4da3-8afd-902151d24e4e",
   "metadata": {},
   "outputs": [
    {
     "data": {
      "text/plain": [
       "(array([False,  True]), array([9026,   21]))"
      ]
     },
     "execution_count": 228,
     "metadata": {},
     "output_type": "execute_result"
    }
   ],
   "source": [
    "#detect test set anomaly\n",
    "anomalies2 = test_mae_loss > 0.18\n",
    "anomalies2.shape\n",
    "unique_elements, counts_elements = np.unique(anomalies2, return_counts=True)\n",
    "unique_elements, counts_elements"
   ]
  },
  {
   "cell_type": "code",
   "execution_count": 229,
   "id": "185acf03-71bb-42fb-b6bd-ca8f0e675ee0",
   "metadata": {},
   "outputs": [
    {
     "data": {
      "text/plain": [
       "(array([1185, 1293, 1526, 1689, 2095, 2611, 2878, 2986, 3531, 4207, 4497,\n",
       "        5836, 6401, 6754, 7055, 7075, 7319, 7536, 7605, 7810, 8458]),)"
      ]
     },
     "execution_count": 229,
     "metadata": {},
     "output_type": "execute_result"
    }
   ],
   "source": [
    "result2 = np.where(anomalies2)\n",
    "result2"
   ]
  },
  {
   "cell_type": "code",
   "execution_count": null,
   "id": "f85ac4ee-812c-4e76-8dad-523c20caeca3",
   "metadata": {},
   "outputs": [],
   "source": [
    "#print test set anomaly request\n",
    "target_index_test=[None]*len(result2[0])\n",
    "for c_,i in enumerate(result2[0]):\n",
    "    print(df_test.index.levels[0][i])\n",
    "    target_index_test[c_] = df_test.index.levels[0][i]\n",
    "target_index_test = np.unique(target_index_test)"
   ]
  },
  {
   "cell_type": "code",
   "execution_count": 231,
   "id": "fbf6e01f-94cd-4f6a-95c2-c199f765f696",
   "metadata": {},
   "outputs": [
    {
     "name": "stdout",
     "output_type": "stream",
     "text": [
      "model saved\n"
     ]
    }
   ],
   "source": [
    "#save model\n",
    "model.save('anomaly_detection_model.h5')\n",
    "print('model saved')"
   ]
  },
  {
   "cell_type": "code",
   "execution_count": 253,
   "id": "b36dd69f-8fc9-49a7-ab44-f8025fb0e53e",
   "metadata": {},
   "outputs": [
    {
     "data": {
      "text/html": [
       "<div>\n",
       "<style scoped>\n",
       "    .dataframe tbody tr th:only-of-type {\n",
       "        vertical-align: middle;\n",
       "    }\n",
       "\n",
       "    .dataframe tbody tr th {\n",
       "        vertical-align: top;\n",
       "    }\n",
       "\n",
       "    .dataframe thead th {\n",
       "        text-align: right;\n",
       "    }\n",
       "</style>\n",
       "<table border=\"1\" class=\"dataframe\">\n",
       "  <thead>\n",
       "    <tr style=\"text-align: right;\">\n",
       "      <th></th>\n",
       "      <th>IP</th>\n",
       "      <th>time</th>\n",
       "      <th>useragent</th>\n",
       "      <th>responsetime</th>\n",
       "      <th>responselength</th>\n",
       "      <th>hour</th>\n",
       "      <th>depth</th>\n",
       "      <th>robot</th>\n",
       "      <th>(Get,)</th>\n",
       "      <th>(Head,)</th>\n",
       "      <th>(Options,)</th>\n",
       "      <th>(Post,)</th>\n",
       "      <th>(Put,)</th>\n",
       "      <th>(1,)</th>\n",
       "      <th>(2,)</th>\n",
       "      <th>(3,)</th>\n",
       "      <th>(4,)</th>\n",
       "      <th>(5,)</th>\n",
       "    </tr>\n",
       "    <tr>\n",
       "      <th>ip_agent</th>\n",
       "      <th></th>\n",
       "      <th></th>\n",
       "      <th></th>\n",
       "      <th></th>\n",
       "      <th></th>\n",
       "      <th></th>\n",
       "      <th></th>\n",
       "      <th></th>\n",
       "      <th></th>\n",
       "      <th></th>\n",
       "      <th></th>\n",
       "      <th></th>\n",
       "      <th></th>\n",
       "      <th></th>\n",
       "      <th></th>\n",
       "      <th></th>\n",
       "      <th></th>\n",
       "      <th></th>\n",
       "    </tr>\n",
       "  </thead>\n",
       "  <tbody>\n",
       "    <tr>\n",
       "      <th>41.181.1.76 :Mozilla/5.0 (Linux; Android 9; G9) AppleWebKit/537.36 (KHTML, like Gecko) Chrome/87.0.4280.66 Mobile Safari/537.36</th>\n",
       "      <td>41.181.1.76</td>\n",
       "      <td>2021-05-12 05:06:02+04:30</td>\n",
       "      <td>Mozilla/5.0 (Linux; Android 9; G9) AppleWebKit...</td>\n",
       "      <td>0.388889</td>\n",
       "      <td>0.000000</td>\n",
       "      <td>0</td>\n",
       "      <td>0.0</td>\n",
       "      <td>0</td>\n",
       "      <td>1.0</td>\n",
       "      <td>0.0</td>\n",
       "      <td>0.0</td>\n",
       "      <td>0.0</td>\n",
       "      <td>0.0</td>\n",
       "      <td>0.0</td>\n",
       "      <td>0.0</td>\n",
       "      <td>1.0</td>\n",
       "      <td>0.0</td>\n",
       "      <td>0.0</td>\n",
       "    </tr>\n",
       "    <tr>\n",
       "      <th>4.138.31.112 :Mozilla/5.0 (Linux; Android 6.0.1; SM-C5010) AppleWebKit/537.36 (KHTML, like Gecko) Chrome/71.0.3578.99 Mobile Safari/537.36</th>\n",
       "      <td>4.138.31.112</td>\n",
       "      <td>2021-05-12 05:06:03+04:30</td>\n",
       "      <td>Mozilla/5.0 (Linux; Android 6.0.1; SM-C5010) A...</td>\n",
       "      <td>0.500000</td>\n",
       "      <td>0.730255</td>\n",
       "      <td>0</td>\n",
       "      <td>0.0</td>\n",
       "      <td>0</td>\n",
       "      <td>1.0</td>\n",
       "      <td>0.0</td>\n",
       "      <td>0.0</td>\n",
       "      <td>0.0</td>\n",
       "      <td>0.0</td>\n",
       "      <td>0.0</td>\n",
       "      <td>1.0</td>\n",
       "      <td>0.0</td>\n",
       "      <td>0.0</td>\n",
       "      <td>0.0</td>\n",
       "    </tr>\n",
       "    <tr>\n",
       "      <th>35.117.114.180 :Mozilla/5.0 (Linux; Android 9; SM-A105F) AppleWebKit/537.36 (KHTML, like Gecko) Chrome/89.0.4389.86 Mobile Safari/537.36</th>\n",
       "      <td>35.117.114.180</td>\n",
       "      <td>2021-05-12 05:06:05+04:30</td>\n",
       "      <td>Mozilla/5.0 (Linux; Android 9; SM-A105F) Apple...</td>\n",
       "      <td>0.500000</td>\n",
       "      <td>0.334102</td>\n",
       "      <td>0</td>\n",
       "      <td>0.5</td>\n",
       "      <td>0</td>\n",
       "      <td>0.0</td>\n",
       "      <td>0.0</td>\n",
       "      <td>0.0</td>\n",
       "      <td>1.0</td>\n",
       "      <td>0.0</td>\n",
       "      <td>0.0</td>\n",
       "      <td>1.0</td>\n",
       "      <td>0.0</td>\n",
       "      <td>0.0</td>\n",
       "      <td>0.0</td>\n",
       "    </tr>\n",
       "    <tr>\n",
       "      <th>35.110.222.153 :Mozilla/5.0 (Linux; Android 6.0.1; SAMSUNG SM-J710GN Build/MMB29K) AppleWebKit/537.36 (KHTML, like Gecko) SamsungBrowser/4.0 Chrome/44.0.2403.133 Mobile Safari/537.36</th>\n",
       "      <td>35.110.222.153</td>\n",
       "      <td>2021-05-12 05:06:06+04:30</td>\n",
       "      <td>Mozilla/5.0 (Linux; Android 6.0.1; SAMSUNG SM-...</td>\n",
       "      <td>0.166667</td>\n",
       "      <td>0.797806</td>\n",
       "      <td>0</td>\n",
       "      <td>0.0</td>\n",
       "      <td>0</td>\n",
       "      <td>1.0</td>\n",
       "      <td>0.0</td>\n",
       "      <td>0.0</td>\n",
       "      <td>0.0</td>\n",
       "      <td>0.0</td>\n",
       "      <td>0.0</td>\n",
       "      <td>1.0</td>\n",
       "      <td>0.0</td>\n",
       "      <td>0.0</td>\n",
       "      <td>0.0</td>\n",
       "    </tr>\n",
       "    <tr>\n",
       "      <th>131.200.114.188 :Mozilla/5.0 (Linux; Android 8.1.0; SM-G610F) AppleWebKit/537.36 (KHTML, like Gecko) Chrome/70.0.3538.110 Mobile Safari/537.36</th>\n",
       "      <td>131.200.114.188</td>\n",
       "      <td>2021-05-12 05:06:06+04:30</td>\n",
       "      <td>Mozilla/5.0 (Linux; Android 8.1.0; SM-G610F) A...</td>\n",
       "      <td>0.166667</td>\n",
       "      <td>0.000000</td>\n",
       "      <td>0</td>\n",
       "      <td>0.0</td>\n",
       "      <td>0</td>\n",
       "      <td>1.0</td>\n",
       "      <td>0.0</td>\n",
       "      <td>0.0</td>\n",
       "      <td>0.0</td>\n",
       "      <td>0.0</td>\n",
       "      <td>0.0</td>\n",
       "      <td>0.0</td>\n",
       "      <td>1.0</td>\n",
       "      <td>0.0</td>\n",
       "      <td>0.0</td>\n",
       "    </tr>\n",
       "  </tbody>\n",
       "</table>\n",
       "</div>"
      ],
      "text/plain": [
       "                                                                  IP  \\\n",
       "ip_agent                                                               \n",
       "41.181.1.76 :Mozilla/5.0 (Linux; Android 9; G9)...      41.181.1.76    \n",
       "4.138.31.112 :Mozilla/5.0 (Linux; Android 6.0.1...     4.138.31.112    \n",
       "35.117.114.180 :Mozilla/5.0 (Linux; Android 9; ...   35.117.114.180    \n",
       "35.110.222.153 :Mozilla/5.0 (Linux; Android 6.0...   35.110.222.153    \n",
       "131.200.114.188 :Mozilla/5.0 (Linux; Android 8....  131.200.114.188    \n",
       "\n",
       "                                                                        time  \\\n",
       "ip_agent                                                                       \n",
       "41.181.1.76 :Mozilla/5.0 (Linux; Android 9; G9)... 2021-05-12 05:06:02+04:30   \n",
       "4.138.31.112 :Mozilla/5.0 (Linux; Android 6.0.1... 2021-05-12 05:06:03+04:30   \n",
       "35.117.114.180 :Mozilla/5.0 (Linux; Android 9; ... 2021-05-12 05:06:05+04:30   \n",
       "35.110.222.153 :Mozilla/5.0 (Linux; Android 6.0... 2021-05-12 05:06:06+04:30   \n",
       "131.200.114.188 :Mozilla/5.0 (Linux; Android 8.... 2021-05-12 05:06:06+04:30   \n",
       "\n",
       "                                                                                            useragent  \\\n",
       "ip_agent                                                                                                \n",
       "41.181.1.76 :Mozilla/5.0 (Linux; Android 9; G9)...  Mozilla/5.0 (Linux; Android 9; G9) AppleWebKit...   \n",
       "4.138.31.112 :Mozilla/5.0 (Linux; Android 6.0.1...  Mozilla/5.0 (Linux; Android 6.0.1; SM-C5010) A...   \n",
       "35.117.114.180 :Mozilla/5.0 (Linux; Android 9; ...  Mozilla/5.0 (Linux; Android 9; SM-A105F) Apple...   \n",
       "35.110.222.153 :Mozilla/5.0 (Linux; Android 6.0...  Mozilla/5.0 (Linux; Android 6.0.1; SAMSUNG SM-...   \n",
       "131.200.114.188 :Mozilla/5.0 (Linux; Android 8....  Mozilla/5.0 (Linux; Android 8.1.0; SM-G610F) A...   \n",
       "\n",
       "                                                    responsetime  \\\n",
       "ip_agent                                                           \n",
       "41.181.1.76 :Mozilla/5.0 (Linux; Android 9; G9)...      0.388889   \n",
       "4.138.31.112 :Mozilla/5.0 (Linux; Android 6.0.1...      0.500000   \n",
       "35.117.114.180 :Mozilla/5.0 (Linux; Android 9; ...      0.500000   \n",
       "35.110.222.153 :Mozilla/5.0 (Linux; Android 6.0...      0.166667   \n",
       "131.200.114.188 :Mozilla/5.0 (Linux; Android 8....      0.166667   \n",
       "\n",
       "                                                    responselength  hour  \\\n",
       "ip_agent                                                                   \n",
       "41.181.1.76 :Mozilla/5.0 (Linux; Android 9; G9)...        0.000000     0   \n",
       "4.138.31.112 :Mozilla/5.0 (Linux; Android 6.0.1...        0.730255     0   \n",
       "35.117.114.180 :Mozilla/5.0 (Linux; Android 9; ...        0.334102     0   \n",
       "35.110.222.153 :Mozilla/5.0 (Linux; Android 6.0...        0.797806     0   \n",
       "131.200.114.188 :Mozilla/5.0 (Linux; Android 8....        0.000000     0   \n",
       "\n",
       "                                                    depth  robot  (Get,)  \\\n",
       "ip_agent                                                                   \n",
       "41.181.1.76 :Mozilla/5.0 (Linux; Android 9; G9)...    0.0      0     1.0   \n",
       "4.138.31.112 :Mozilla/5.0 (Linux; Android 6.0.1...    0.0      0     1.0   \n",
       "35.117.114.180 :Mozilla/5.0 (Linux; Android 9; ...    0.5      0     0.0   \n",
       "35.110.222.153 :Mozilla/5.0 (Linux; Android 6.0...    0.0      0     1.0   \n",
       "131.200.114.188 :Mozilla/5.0 (Linux; Android 8....    0.0      0     1.0   \n",
       "\n",
       "                                                    (Head,)  (Options,)  \\\n",
       "ip_agent                                                                  \n",
       "41.181.1.76 :Mozilla/5.0 (Linux; Android 9; G9)...      0.0         0.0   \n",
       "4.138.31.112 :Mozilla/5.0 (Linux; Android 6.0.1...      0.0         0.0   \n",
       "35.117.114.180 :Mozilla/5.0 (Linux; Android 9; ...      0.0         0.0   \n",
       "35.110.222.153 :Mozilla/5.0 (Linux; Android 6.0...      0.0         0.0   \n",
       "131.200.114.188 :Mozilla/5.0 (Linux; Android 8....      0.0         0.0   \n",
       "\n",
       "                                                    (Post,)  (Put,)  (1,)  \\\n",
       "ip_agent                                                                    \n",
       "41.181.1.76 :Mozilla/5.0 (Linux; Android 9; G9)...      0.0     0.0   0.0   \n",
       "4.138.31.112 :Mozilla/5.0 (Linux; Android 6.0.1...      0.0     0.0   0.0   \n",
       "35.117.114.180 :Mozilla/5.0 (Linux; Android 9; ...      1.0     0.0   0.0   \n",
       "35.110.222.153 :Mozilla/5.0 (Linux; Android 6.0...      0.0     0.0   0.0   \n",
       "131.200.114.188 :Mozilla/5.0 (Linux; Android 8....      0.0     0.0   0.0   \n",
       "\n",
       "                                                    (2,)  (3,)  (4,)  (5,)  \n",
       "ip_agent                                                                    \n",
       "41.181.1.76 :Mozilla/5.0 (Linux; Android 9; G9)...   0.0   1.0   0.0   0.0  \n",
       "4.138.31.112 :Mozilla/5.0 (Linux; Android 6.0.1...   1.0   0.0   0.0   0.0  \n",
       "35.117.114.180 :Mozilla/5.0 (Linux; Android 9; ...   1.0   0.0   0.0   0.0  \n",
       "35.110.222.153 :Mozilla/5.0 (Linux; Android 6.0...   1.0   0.0   0.0   0.0  \n",
       "131.200.114.188 :Mozilla/5.0 (Linux; Android 8....   0.0   1.0   0.0   0.0  "
      ]
     },
     "execution_count": 253,
     "metadata": {},
     "output_type": "execute_result"
    }
   ],
   "source": [
    "train_precision.set_index('ip_agent').head()"
   ]
  },
  {
   "cell_type": "code",
   "execution_count": 233,
   "id": "5897df04-c649-4a1c-b987-81c9eb1b3feb",
   "metadata": {},
   "outputs": [
    {
     "data": {
      "text/plain": [
       "False    17148\n",
       "True        26\n",
       "Name: predict, dtype: int64"
      ]
     },
     "execution_count": 233,
     "metadata": {},
     "output_type": "execute_result"
    }
   ],
   "source": [
    "#assignment train set anomaly label\n",
    "tmp = train_precision.copy()\n",
    "tmp['predict']=False\n",
    "tmp=tmp.set_index('ip_agent')\n",
    "tmp.loc[target_index,'predict']=True\n",
    "tmp.predict.value_counts()"
   ]
  },
  {
   "cell_type": "code",
   "execution_count": 234,
   "id": "ab6f0506-9523-4b16-aa7e-d865f49268f8",
   "metadata": {},
   "outputs": [
    {
     "data": {
      "text/plain": [
       "False    9026\n",
       "True       21\n",
       "Name: predict, dtype: int64"
      ]
     },
     "execution_count": 234,
     "metadata": {},
     "output_type": "execute_result"
    }
   ],
   "source": [
    "#assignment test set anomaly label\n",
    "tmp_test = test_precision.copy()\n",
    "tmp_test['predict']=False\n",
    "tmp_test=tmp_test.set_index('ip_agent')\n",
    "tmp_test.loc[target_index_test,'predict']=True\n",
    "tmp_test.predict.value_counts()"
   ]
  },
  {
   "cell_type": "code",
   "execution_count": 254,
   "id": "30153225-c5eb-49e0-914c-d823e9a7716e",
   "metadata": {},
   "outputs": [
    {
     "data": {
      "text/html": [
       "<div>\n",
       "<style scoped>\n",
       "    .dataframe tbody tr th:only-of-type {\n",
       "        vertical-align: middle;\n",
       "    }\n",
       "\n",
       "    .dataframe tbody tr th {\n",
       "        vertical-align: top;\n",
       "    }\n",
       "\n",
       "    .dataframe thead th {\n",
       "        text-align: right;\n",
       "    }\n",
       "</style>\n",
       "<table border=\"1\" class=\"dataframe\">\n",
       "  <thead>\n",
       "    <tr style=\"text-align: right;\">\n",
       "      <th></th>\n",
       "      <th>IP</th>\n",
       "      <th>time</th>\n",
       "      <th>useragent</th>\n",
       "      <th>responsetime</th>\n",
       "      <th>statuscode</th>\n",
       "      <th>responselength</th>\n",
       "      <th>method</th>\n",
       "      <th>path</th>\n",
       "      <th>hour</th>\n",
       "      <th>request</th>\n",
       "      <th>...</th>\n",
       "      <th>(Head,)</th>\n",
       "      <th>(Options,)</th>\n",
       "      <th>(Post,)</th>\n",
       "      <th>(Put,)</th>\n",
       "      <th>(1,)</th>\n",
       "      <th>(2,)</th>\n",
       "      <th>(3,)</th>\n",
       "      <th>(4,)</th>\n",
       "      <th>(5,)</th>\n",
       "      <th>predict</th>\n",
       "    </tr>\n",
       "    <tr>\n",
       "      <th>ip_agent</th>\n",
       "      <th></th>\n",
       "      <th></th>\n",
       "      <th></th>\n",
       "      <th></th>\n",
       "      <th></th>\n",
       "      <th></th>\n",
       "      <th></th>\n",
       "      <th></th>\n",
       "      <th></th>\n",
       "      <th></th>\n",
       "      <th></th>\n",
       "      <th></th>\n",
       "      <th></th>\n",
       "      <th></th>\n",
       "      <th></th>\n",
       "      <th></th>\n",
       "      <th></th>\n",
       "      <th></th>\n",
       "      <th></th>\n",
       "      <th></th>\n",
       "      <th></th>\n",
       "    </tr>\n",
       "  </thead>\n",
       "  <tbody>\n",
       "    <tr>\n",
       "      <th>41.181.1.76 :Mozilla/5.0 (Linux; Android 9; G9) AppleWebKit/537.36 (KHTML, like Gecko) Chrome/87.0.4280.66 Mobile Safari/537.36</th>\n",
       "      <td>41.181.1.76</td>\n",
       "      <td>2021-05-12 05:06:02+04:30</td>\n",
       "      <td>Mozilla/5.0 (Linux; Android 9; G9) AppleWebKit...</td>\n",
       "      <td>0.388889</td>\n",
       "      <td>3</td>\n",
       "      <td>0.000000</td>\n",
       "      <td>Get</td>\n",
       "      <td>fonts/fontawesome_webfont.woff2?v=4.7.0</td>\n",
       "      <td>0</td>\n",
       "      <td>14</td>\n",
       "      <td>...</td>\n",
       "      <td>0.0</td>\n",
       "      <td>0.0</td>\n",
       "      <td>0.0</td>\n",
       "      <td>0.0</td>\n",
       "      <td>0.0</td>\n",
       "      <td>0.0</td>\n",
       "      <td>1.0</td>\n",
       "      <td>0.0</td>\n",
       "      <td>0.0</td>\n",
       "      <td>False</td>\n",
       "    </tr>\n",
       "    <tr>\n",
       "      <th>4.138.31.112 :Mozilla/5.0 (Linux; Android 6.0.1; SM-C5010) AppleWebKit/537.36 (KHTML, like Gecko) Chrome/71.0.3578.99 Mobile Safari/537.36</th>\n",
       "      <td>4.138.31.112</td>\n",
       "      <td>2021-05-12 05:06:03+04:30</td>\n",
       "      <td>Mozilla/5.0 (Linux; Android 6.0.1; SM-C5010) A...</td>\n",
       "      <td>0.500000</td>\n",
       "      <td>2</td>\n",
       "      <td>0.730255</td>\n",
       "      <td>Get</td>\n",
       "      <td>images/fav_icon2.ico</td>\n",
       "      <td>0</td>\n",
       "      <td>15</td>\n",
       "      <td>...</td>\n",
       "      <td>0.0</td>\n",
       "      <td>0.0</td>\n",
       "      <td>0.0</td>\n",
       "      <td>0.0</td>\n",
       "      <td>0.0</td>\n",
       "      <td>1.0</td>\n",
       "      <td>0.0</td>\n",
       "      <td>0.0</td>\n",
       "      <td>0.0</td>\n",
       "      <td>False</td>\n",
       "    </tr>\n",
       "    <tr>\n",
       "      <th>35.117.114.180 :Mozilla/5.0 (Linux; Android 9; SM-A105F) AppleWebKit/537.36 (KHTML, like Gecko) Chrome/89.0.4389.86 Mobile Safari/537.36</th>\n",
       "      <td>35.117.114.180</td>\n",
       "      <td>2021-05-12 05:06:05+04:30</td>\n",
       "      <td>Mozilla/5.0 (Linux; Android 9; SM-A105F) Apple...</td>\n",
       "      <td>0.500000</td>\n",
       "      <td>2</td>\n",
       "      <td>0.334102</td>\n",
       "      <td>Post</td>\n",
       "      <td>/api/cs0/uxEvents</td>\n",
       "      <td>0</td>\n",
       "      <td>17</td>\n",
       "      <td>...</td>\n",
       "      <td>0.0</td>\n",
       "      <td>0.0</td>\n",
       "      <td>1.0</td>\n",
       "      <td>0.0</td>\n",
       "      <td>0.0</td>\n",
       "      <td>1.0</td>\n",
       "      <td>0.0</td>\n",
       "      <td>0.0</td>\n",
       "      <td>0.0</td>\n",
       "      <td>False</td>\n",
       "    </tr>\n",
       "    <tr>\n",
       "      <th>35.110.222.153 :Mozilla/5.0 (Linux; Android 6.0.1; SAMSUNG SM-J710GN Build/MMB29K) AppleWebKit/537.36 (KHTML, like Gecko) SamsungBrowser/4.0 Chrome/44.0.2403.133 Mobile Safari/537.36</th>\n",
       "      <td>35.110.222.153</td>\n",
       "      <td>2021-05-12 05:06:06+04:30</td>\n",
       "      <td>Mozilla/5.0 (Linux; Android 6.0.1; SAMSUNG SM-...</td>\n",
       "      <td>0.166667</td>\n",
       "      <td>2</td>\n",
       "      <td>0.797806</td>\n",
       "      <td>Get</td>\n",
       "      <td>images/cooler_service_banner.png</td>\n",
       "      <td>0</td>\n",
       "      <td>15</td>\n",
       "      <td>...</td>\n",
       "      <td>0.0</td>\n",
       "      <td>0.0</td>\n",
       "      <td>0.0</td>\n",
       "      <td>0.0</td>\n",
       "      <td>0.0</td>\n",
       "      <td>1.0</td>\n",
       "      <td>0.0</td>\n",
       "      <td>0.0</td>\n",
       "      <td>0.0</td>\n",
       "      <td>False</td>\n",
       "    </tr>\n",
       "    <tr>\n",
       "      <th>131.200.114.188 :Mozilla/5.0 (Linux; Android 8.1.0; SM-G610F) AppleWebKit/537.36 (KHTML, like Gecko) Chrome/70.0.3538.110 Mobile Safari/537.36</th>\n",
       "      <td>131.200.114.188</td>\n",
       "      <td>2021-05-12 05:06:06+04:30</td>\n",
       "      <td>Mozilla/5.0 (Linux; Android 8.1.0; SM-G610F) A...</td>\n",
       "      <td>0.166667</td>\n",
       "      <td>3</td>\n",
       "      <td>0.000000</td>\n",
       "      <td>Get</td>\n",
       "      <td>fonts/sanjagh_icon_font_5.woff</td>\n",
       "      <td>0</td>\n",
       "      <td>14</td>\n",
       "      <td>...</td>\n",
       "      <td>0.0</td>\n",
       "      <td>0.0</td>\n",
       "      <td>0.0</td>\n",
       "      <td>0.0</td>\n",
       "      <td>0.0</td>\n",
       "      <td>0.0</td>\n",
       "      <td>1.0</td>\n",
       "      <td>0.0</td>\n",
       "      <td>0.0</td>\n",
       "      <td>False</td>\n",
       "    </tr>\n",
       "  </tbody>\n",
       "</table>\n",
       "<p>5 rows × 24 columns</p>\n",
       "</div>"
      ],
      "text/plain": [
       "                                                                  IP  \\\n",
       "ip_agent                                                               \n",
       "41.181.1.76 :Mozilla/5.0 (Linux; Android 9; G9)...      41.181.1.76    \n",
       "4.138.31.112 :Mozilla/5.0 (Linux; Android 6.0.1...     4.138.31.112    \n",
       "35.117.114.180 :Mozilla/5.0 (Linux; Android 9; ...   35.117.114.180    \n",
       "35.110.222.153 :Mozilla/5.0 (Linux; Android 6.0...   35.110.222.153    \n",
       "131.200.114.188 :Mozilla/5.0 (Linux; Android 8....  131.200.114.188    \n",
       "\n",
       "                                                                        time  \\\n",
       "ip_agent                                                                       \n",
       "41.181.1.76 :Mozilla/5.0 (Linux; Android 9; G9)... 2021-05-12 05:06:02+04:30   \n",
       "4.138.31.112 :Mozilla/5.0 (Linux; Android 6.0.1... 2021-05-12 05:06:03+04:30   \n",
       "35.117.114.180 :Mozilla/5.0 (Linux; Android 9; ... 2021-05-12 05:06:05+04:30   \n",
       "35.110.222.153 :Mozilla/5.0 (Linux; Android 6.0... 2021-05-12 05:06:06+04:30   \n",
       "131.200.114.188 :Mozilla/5.0 (Linux; Android 8.... 2021-05-12 05:06:06+04:30   \n",
       "\n",
       "                                                                                            useragent  \\\n",
       "ip_agent                                                                                                \n",
       "41.181.1.76 :Mozilla/5.0 (Linux; Android 9; G9)...  Mozilla/5.0 (Linux; Android 9; G9) AppleWebKit...   \n",
       "4.138.31.112 :Mozilla/5.0 (Linux; Android 6.0.1...  Mozilla/5.0 (Linux; Android 6.0.1; SM-C5010) A...   \n",
       "35.117.114.180 :Mozilla/5.0 (Linux; Android 9; ...  Mozilla/5.0 (Linux; Android 9; SM-A105F) Apple...   \n",
       "35.110.222.153 :Mozilla/5.0 (Linux; Android 6.0...  Mozilla/5.0 (Linux; Android 6.0.1; SAMSUNG SM-...   \n",
       "131.200.114.188 :Mozilla/5.0 (Linux; Android 8....  Mozilla/5.0 (Linux; Android 8.1.0; SM-G610F) A...   \n",
       "\n",
       "                                                    responsetime  statuscode  \\\n",
       "ip_agent                                                                       \n",
       "41.181.1.76 :Mozilla/5.0 (Linux; Android 9; G9)...      0.388889           3   \n",
       "4.138.31.112 :Mozilla/5.0 (Linux; Android 6.0.1...      0.500000           2   \n",
       "35.117.114.180 :Mozilla/5.0 (Linux; Android 9; ...      0.500000           2   \n",
       "35.110.222.153 :Mozilla/5.0 (Linux; Android 6.0...      0.166667           2   \n",
       "131.200.114.188 :Mozilla/5.0 (Linux; Android 8....      0.166667           3   \n",
       "\n",
       "                                                    responselength method  \\\n",
       "ip_agent                                                                    \n",
       "41.181.1.76 :Mozilla/5.0 (Linux; Android 9; G9)...        0.000000    Get   \n",
       "4.138.31.112 :Mozilla/5.0 (Linux; Android 6.0.1...        0.730255    Get   \n",
       "35.117.114.180 :Mozilla/5.0 (Linux; Android 9; ...        0.334102   Post   \n",
       "35.110.222.153 :Mozilla/5.0 (Linux; Android 6.0...        0.797806    Get   \n",
       "131.200.114.188 :Mozilla/5.0 (Linux; Android 8....        0.000000    Get   \n",
       "\n",
       "                                                                                       path  \\\n",
       "ip_agent                                                                                      \n",
       "41.181.1.76 :Mozilla/5.0 (Linux; Android 9; G9)...  fonts/fontawesome_webfont.woff2?v=4.7.0   \n",
       "4.138.31.112 :Mozilla/5.0 (Linux; Android 6.0.1...                     images/fav_icon2.ico   \n",
       "35.117.114.180 :Mozilla/5.0 (Linux; Android 9; ...                        /api/cs0/uxEvents   \n",
       "35.110.222.153 :Mozilla/5.0 (Linux; Android 6.0...         images/cooler_service_banner.png   \n",
       "131.200.114.188 :Mozilla/5.0 (Linux; Android 8....           fonts/sanjagh_icon_font_5.woff   \n",
       "\n",
       "                                                    hour  request  ...  \\\n",
       "ip_agent                                                           ...   \n",
       "41.181.1.76 :Mozilla/5.0 (Linux; Android 9; G9)...     0       14  ...   \n",
       "4.138.31.112 :Mozilla/5.0 (Linux; Android 6.0.1...     0       15  ...   \n",
       "35.117.114.180 :Mozilla/5.0 (Linux; Android 9; ...     0       17  ...   \n",
       "35.110.222.153 :Mozilla/5.0 (Linux; Android 6.0...     0       15  ...   \n",
       "131.200.114.188 :Mozilla/5.0 (Linux; Android 8....     0       14  ...   \n",
       "\n",
       "                                                    (Head,)  (Options,)  \\\n",
       "ip_agent                                                                  \n",
       "41.181.1.76 :Mozilla/5.0 (Linux; Android 9; G9)...      0.0         0.0   \n",
       "4.138.31.112 :Mozilla/5.0 (Linux; Android 6.0.1...      0.0         0.0   \n",
       "35.117.114.180 :Mozilla/5.0 (Linux; Android 9; ...      0.0         0.0   \n",
       "35.110.222.153 :Mozilla/5.0 (Linux; Android 6.0...      0.0         0.0   \n",
       "131.200.114.188 :Mozilla/5.0 (Linux; Android 8....      0.0         0.0   \n",
       "\n",
       "                                                    (Post,)  (Put,)  (1,)  \\\n",
       "ip_agent                                                                    \n",
       "41.181.1.76 :Mozilla/5.0 (Linux; Android 9; G9)...      0.0     0.0   0.0   \n",
       "4.138.31.112 :Mozilla/5.0 (Linux; Android 6.0.1...      0.0     0.0   0.0   \n",
       "35.117.114.180 :Mozilla/5.0 (Linux; Android 9; ...      1.0     0.0   0.0   \n",
       "35.110.222.153 :Mozilla/5.0 (Linux; Android 6.0...      0.0     0.0   0.0   \n",
       "131.200.114.188 :Mozilla/5.0 (Linux; Android 8....      0.0     0.0   0.0   \n",
       "\n",
       "                                                    (2,)  (3,)  (4,)  (5,)  \\\n",
       "ip_agent                                                                     \n",
       "41.181.1.76 :Mozilla/5.0 (Linux; Android 9; G9)...   0.0   1.0   0.0   0.0   \n",
       "4.138.31.112 :Mozilla/5.0 (Linux; Android 6.0.1...   1.0   0.0   0.0   0.0   \n",
       "35.117.114.180 :Mozilla/5.0 (Linux; Android 9; ...   1.0   0.0   0.0   0.0   \n",
       "35.110.222.153 :Mozilla/5.0 (Linux; Android 6.0...   1.0   0.0   0.0   0.0   \n",
       "131.200.114.188 :Mozilla/5.0 (Linux; Android 8....   0.0   1.0   0.0   0.0   \n",
       "\n",
       "                                                    predict  \n",
       "ip_agent                                                     \n",
       "41.181.1.76 :Mozilla/5.0 (Linux; Android 9; G9)...    False  \n",
       "4.138.31.112 :Mozilla/5.0 (Linux; Android 6.0.1...    False  \n",
       "35.117.114.180 :Mozilla/5.0 (Linux; Android 9; ...    False  \n",
       "35.110.222.153 :Mozilla/5.0 (Linux; Android 6.0...    False  \n",
       "131.200.114.188 :Mozilla/5.0 (Linux; Android 8....    False  \n",
       "\n",
       "[5 rows x 24 columns]"
      ]
     },
     "execution_count": 254,
     "metadata": {},
     "output_type": "execute_result"
    }
   ],
   "source": [
    "tmp.head()"
   ]
  },
  {
   "cell_type": "code",
   "execution_count": 236,
   "id": "00ffb5b0-ecb6-4ae4-ac28-e10e68f6f4e9",
   "metadata": {},
   "outputs": [],
   "source": [
    "from sklearn.metrics import confusion_matrix, precision_recall_curve\n",
    "from sklearn.metrics import recall_score, classification_report, auc, roc_curve\n",
    "from sklearn.metrics import precision_recall_fscore_support, f1_score"
   ]
  },
  {
   "cell_type": "code",
   "execution_count": 237,
   "id": "7357812f-d856-4146-a02f-0319a7308b1f",
   "metadata": {},
   "outputs": [
    {
     "data": {
      "image/png": "[encoded data removed]",
      "text/plain": [
       "<Figure size 432x288 with 1 Axes>"
      ]
     },
     "metadata": {
      "needs_background": "light"
     },
     "output_type": "display_data"
    }
   ],
   "source": [
    "#plot train set precision recall\n",
    "ds_np_train_pred = model.predict(ds_np_train)\n",
    "train_mae_loss = np.mean(np.abs(ds_np_train_pred - ds_np_train), axis=(1,2))\n",
    "\n",
    "error_df = pd.DataFrame({'Reconstruction_error': train_mae_loss,\n",
    "                       'True_class': tmp.predict.tolist()})\n",
    "\n",
    "precision_rt, recall_rt, threshold_rt = precision_recall_curve(error_df.True_class, error_df.Reconstruction_error)\n",
    "plt.plot(threshold_rt, precision_rt[1:], label=\"Precision\",linewidth=5)\n",
    "plt.plot(threshold_rt, recall_rt[1:], label=\"Recall\",linewidth=5)\n",
    "plt.title('Precision and recall for different threshold values')\n",
    "plt.xlabel('Threshold')\n",
    "plt.ylabel('Precision/Recall')\n",
    "plt.legend()\n",
    "plt.show()"
   ]
  },
  {
   "cell_type": "code",
   "execution_count": 238,
   "id": "5d4c3d69-8cca-4dd1-a99f-647585c69283",
   "metadata": {},
   "outputs": [
    {
     "data": {
      "image/png": "[encoded data removed]",
      "text/plain": [
       "<Figure size 432x288 with 1 Axes>"
      ]
     },
     "metadata": {
      "needs_background": "light"
     },
     "output_type": "display_data"
    }
   ],
   "source": [
    "#plot train set ROC Curve and AUC\n",
    "false_pos_rate, true_pos_rate, thresholds = roc_curve(error_df.True_class, error_df.Reconstruction_error)\n",
    "roc_auc = auc(false_pos_rate, true_pos_rate,)\n",
    "\n",
    "plt.plot(false_pos_rate, true_pos_rate, linewidth=5, label='AUC = %0.3f'% roc_auc)\n",
    "plt.plot([0,1],[0,1], linewidth=5)\n",
    "\n",
    "plt.xlim([-0.01, 1])\n",
    "plt.ylim([0, 1.01])\n",
    "plt.legend(loc='lower right')\n",
    "plt.title('Receiver operating characteristic curve (ROC)')\n",
    "plt.ylabel('True Positive Rate')\n",
    "plt.xlabel('False Positive Rate')\n",
    "plt.show()"
   ]
  },
  {
   "cell_type": "code",
   "execution_count": 239,
   "id": "14b6a339-c101-45aa-a415-1c8b7985cc32",
   "metadata": {
    "tags": []
   },
   "outputs": [
    {
     "data": {
      "image/png": "[encoded data removed]",
      "text/plain": [
       "<Figure size 432x288 with 1 Axes>"
      ]
     },
     "metadata": {
      "needs_background": "light"
     },
     "output_type": "display_data"
    }
   ],
   "source": [
    "#plot test set precision recall\n",
    "ds_np_test_pred = model.predict(ds_np_test)\n",
    "test_mae_loss = np.mean(np.abs(ds_np_test_pred-ds_np_test), axis=(1,2))\n",
    "\n",
    "\n",
    "error_df = pd.DataFrame({'Reconstruction_error': test_mae_loss,\n",
    "                       'True_class': tmp_test.predict.tolist()})\n",
    "\n",
    "precision_rt, recall_rt, threshold_rt = precision_recall_curve(error_df.True_class, error_df.Reconstruction_error)\n",
    "plt.plot(threshold_rt, precision_rt[1:], label=\"Precision\",linewidth=5)\n",
    "plt.plot(threshold_rt, recall_rt[1:], label=\"Recall\",linewidth=5)\n",
    "plt.title('Precision and recall for different threshold values')\n",
    "plt.xlabel('Threshold')\n",
    "plt.ylabel('Precision/Recall')\n",
    "plt.legend()\n",
    "plt.show()"
   ]
  },
  {
   "cell_type": "code",
   "execution_count": 240,
   "id": "df5f1bba-ee11-4f6e-a031-00a5c9a348f9",
   "metadata": {},
   "outputs": [
    {
     "data": {
      "image/png": "[encoded data removed]",
      "text/plain": [
       "<Figure size 432x288 with 1 Axes>"
      ]
     },
     "metadata": {
      "needs_background": "light"
     },
     "output_type": "display_data"
    }
   ],
   "source": [
    "#plot test set ROC Curve and AUC\n",
    "false_pos_rate, true_pos_rate, thresholds = roc_curve(error_df.True_class, error_df.Reconstruction_error)\n",
    "roc_auc = auc(false_pos_rate, true_pos_rate,)\n",
    "\n",
    "plt.plot(false_pos_rate, true_pos_rate, linewidth=5, label='AUC = %0.3f'% roc_auc)\n",
    "plt.plot([0,1],[0,1], linewidth=5)\n",
    "\n",
    "plt.xlim([-0.01, 1])\n",
    "plt.ylim([0, 1.01])\n",
    "plt.legend(loc='lower right')\n",
    "plt.title('Receiver operating characteristic curve (ROC)')\n",
    "plt.ylabel('True Positive Rate')\n",
    "plt.xlabel('False Positive Rate')\n",
    "plt.show()"
   ]
  },
  {
   "cell_type": "code",
   "execution_count": 241,
   "id": "c8dc0459-7057-426c-a911-2fa5726d388c",
   "metadata": {},
   "outputs": [
    {
     "name": "stdout",
     "output_type": "stream",
     "text": [
      "False    17164\n",
      "True        10\n",
      "Name: anomaly, dtype: int64\n",
      "False    17148\n",
      "True        26\n",
      "Name: predict, dtype: int64\n",
      "False    9037\n",
      "True       10\n",
      "Name: anomaly, dtype: int64\n",
      "False    9026\n",
      "True       21\n",
      "Name: predict, dtype: int64\n"
     ]
    }
   ],
   "source": [
    "#compare No. of anomaly detected\n",
    "print(tmp['anomaly'].value_counts())\n",
    "print(tmp['predict'].value_counts())\n",
    "print(tmp_test['anomaly'].value_counts())\n",
    "print(tmp_test['predict'].value_counts())"
   ]
  },
  {
   "cell_type": "code",
   "execution_count": 242,
   "id": "49794f87-52fc-4498-a6a0-3347a631d1e1",
   "metadata": {},
   "outputs": [],
   "source": [
    "from sklearn.metrics import accuracy_score\n",
    "from sklearn.metrics import precision_score\n",
    "from sklearn.metrics import recall_score\n",
    "from sklearn.metrics import f1_score"
   ]
  },
  {
   "cell_type": "code",
   "execution_count": null,
   "id": "2ca6e716-84c3-4d6d-bf6c-cdf3bd7f832b",
   "metadata": {},
   "outputs": [],
   "source": [
    "#train set metrics\n",
    "# accuracy: (tp + tn) / (p + n)\n",
    "accuracy = accuracy_score(tmp['anomaly'], tmp['predict'])\n",
    "print('Accuracy: %f' % accuracy)\n",
    "# precision tp / (tp + fp)\n",
    "precision = precision_score(tmp['anomaly'], tmp['predict'])\n",
    "print('Precision: %f' % precision)\n",
    "# recall: tp / (tp + fn)\n",
    "recall = recall_score(tmp['anomaly'], tmp['predict'])\n",
    "print('Recall: %f' % recall)\n",
    "# f1: 2 tp / (2 tp + fp + fn)\n",
    "f1 = f1_score(tmp['anomaly'], tmp['predict'])\n",
    "print('F1 score: %f' % f1)"
   ]
  },
  {
   "cell_type": "code",
   "execution_count": null,
   "id": "4003c722-0f66-423f-aac2-bcffbcdd1090",
   "metadata": {},
   "outputs": [],
   "source": [
    "#test set metrics\n",
    "# accuracy: (tp + tn) / (p + n)\n",
    "accuracy = accuracy_score(tmp_test['anomaly'], tmp_test['predict'])\n",
    "print('Accuracy: %f' % accuracy)\n",
    "# precision tp / (tp + fp)\n",
    "precision = precision_score(tmp_test['anomaly'], tmp_test['predict'])\n",
    "print('Precision: %f' % precision)\n",
    "# recall: tp / (tp + fn)\n",
    "recall = recall_score(tmp_test['anomaly'], tmp_test['predict'])\n",
    "print('Recall: %f' % recall)\n",
    "# f1: 2 tp / (2 tp + fp + fn)\n",
    "f1 = f1_score(tmp_test['anomaly'], tmp_test['predict'])\n",
    "print('F1 score: %f' % f1)"
   ]
  },
  {
   "cell_type": "code",
   "execution_count": 245,
   "id": "f22800f1-a63b-4318-bb27-129ebe257643",
   "metadata": {},
   "outputs": [
    {
     "data": {
      "text/plain": [
       "0.0"
      ]
     },
     "execution_count": 245,
     "metadata": {},
     "output_type": "execute_result"
    }
   ],
   "source": [
    "train_precision.ip_agent.duplicated().sum()/len(train_precision)"
   ]
  }
 ],
 "metadata": {
  "kernelspec": {
   "display_name": "Python 3",
   "language": "python",
   "name": "python3"
  },
  "language_info": {
   "codemirror_mode": {
    "name": "ipython",
    "version": 3
   },
   "file_extension": ".py",
   "mimetype": "text/x-python",
   "name": "python",
   "nbconvert_exporter": "python",
   "pygments_lexer": "ipython3",
   "version": "3.9.5"
  }
 },
 "nbformat": 4,
 "nbformat_minor": 5
}
